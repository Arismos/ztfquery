{
 "cells": [
  {
   "cell_type": "markdown",
   "metadata": {},
   "source": [
    "***\n",
    "# from ztfquery import fritz\n",
    "***\n",
    "\n",
    "### ztfquery.query enables you to get information from the ZTF-II \"fritz marshal\". \n",
    "It corresponds to alert and assocated informations.\n",
    "\n",
    "ztfquery.fritz basically is a python wrapper of the fritz version of the skyportal web API (https://docs.fritz.science/api.html)\n",
    "\n",
    "**Note**: you will need a token from you fritz account (https://fritz.science/profile)\n",
    "\n",
    "\n",
    "**This tutorial will focus on Sample access and user accounts **, \n",
    "\n",
    "\n",
    "- see Fritz 2.1 for individual target data (lightcurve, alerts, spectra, source information)\n",
    "- see Fritz 2.2 for storing and retrieving data.\n",
    "- see Fritz 2.3 for Sample (source collection)\n",
    "\n"
   ]
  },
  {
   "cell_type": "markdown",
   "metadata": {},
   "source": [
    "***\n",
    "# Step 0: imports"
   ]
  },
  {
   "cell_type": "code",
   "execution_count": 1,
   "metadata": {},
   "outputs": [],
   "source": [
    "%matplotlib notebook\n",
    "import numpy as np\n",
    "from ztfquery import fritz"
   ]
  },
  {
   "cell_type": "code",
   "execution_count": 2,
   "metadata": {},
   "outputs": [],
   "source": [
    "import pandas"
   ]
  },
  {
   "cell_type": "markdown",
   "metadata": {},
   "source": [
    "***\n",
    "# FritzAccess\n",
    "\n",
    "\n",
    "Fritz Access is the highest level method built upon the `FritzSample`s. A user has access to several samples and FritzAccess enables to do so in a convenient way.\n",
    "\n",
    "When you instanciate a `FritzAccess`, it automatically loads a FritzGroup instance as `self.groups` that are then used notably to know the group (ie. samples) you have access to."
   ]
  },
  {
   "cell_type": "code",
   "execution_count": 19,
   "metadata": {},
   "outputs": [],
   "source": [
    "fu = fritz.FritzAccess()"
   ]
  },
  {
   "cell_type": "code",
   "execution_count": 13,
   "metadata": {},
   "outputs": [
    {
     "data": {
      "text/plain": [
       "<ztfquery.fritz.FritzGroups at 0x7fb0fa7de9a0>"
      ]
     },
     "execution_count": 13,
     "metadata": {},
     "output_type": "execute_result"
    }
   ],
   "source": [
    "fu.groups"
   ]
  },
  {
   "cell_type": "markdown",
   "metadata": {},
   "source": [
    "To check the group you have access to"
   ]
  },
  {
   "cell_type": "code",
   "execution_count": 14,
   "metadata": {},
   "outputs": [
    {
     "data": {
      "text/plain": [
       "array(['AmpelGroup_test1', 'Calibrator SNe Ia',\n",
       "       'Cosmology with Type Ia Supernovae', 'Infant Supernovae',\n",
       "       'Nuclear Transients', 'Physics of Transients',\n",
       "       'RCF Junk and Variables', 'Redshift Completeness Factor',\n",
       "       'Rigault Research Group', 'Same host SNe',\n",
       "       'SEDM Partnership-wide Group', 'Sitewide Group', 'Treasures',\n",
       "       'Type Ia Supernovae', 'Weizmann_Test'], dtype=object)"
      ]
     },
     "execution_count": 14,
     "metadata": {},
     "output_type": "execute_result"
    }
   ],
   "source": [
    "groupid = fu.get_mygroups()\n",
    "groupid"
   ]
  },
  {
   "cell_type": "code",
   "execution_count": 6,
   "metadata": {},
   "outputs": [
    {
     "data": {
      "text/plain": [
       "array([ 63, 253,  55,  49,  80,  88, 255,  41, 125, 251, 209,   1, 215,\n",
       "       177,  65])"
      ]
     },
     "execution_count": 6,
     "metadata": {},
     "output_type": "execute_result"
    }
   ],
   "source": [
    "groupid = fu.get_mygroups(\"id\")\n",
    "groupid"
   ]
  },
  {
   "cell_type": "markdown",
   "metadata": {},
   "source": [
    "### loading the samples\n",
    "You can then load the samples (all or a sublist) you have access to. This will call each individual `FritzSample.from_group()` with `load_sources=False` (see load sources later on)"
   ]
  },
  {
   "cell_type": "code",
   "execution_count": 20,
   "metadata": {},
   "outputs": [
    {
     "name": "stdout",
     "output_type": "stream",
     "text": [
      "CPU times: user 401 ms, sys: 52.5 ms, total: 454 ms\n",
      "Wall time: 4.99 s\n"
     ]
    }
   ],
   "source": [
    "%time fu.load_samples()"
   ]
  },
  {
   "cell_type": "code",
   "execution_count": 23,
   "metadata": {},
   "outputs": [
    {
     "data": {
      "text/plain": [
       "{'AmpelGroup_test1': 201,\n",
       " 'Calibrator SNe Ia': 15,\n",
       " 'Cosmology with Type Ia Supernovae': 2,\n",
       " 'Infant Supernovae': 329,\n",
       " 'Nuclear Transients': 7476,\n",
       " 'Physics of Transients': 14,\n",
       " 'RCF Junk and Variables': 888,\n",
       " 'Redshift Completeness Factor': 7855,\n",
       " 'Rigault Research Group': 2,\n",
       " 'Same host SNe': 119,\n",
       " 'SEDM Partnership-wide Group': 605,\n",
       " 'Sitewide Group': 287,\n",
       " 'Treasures': 901,\n",
       " 'Type Ia Supernovae': 11,\n",
       " 'Weizmann_Test': 78}"
      ]
     },
     "execution_count": 23,
     "metadata": {},
     "output_type": "execute_result"
    }
   ],
   "source": [
    "fu.get_samples_size()"
   ]
  },
  {
   "cell_type": "markdown",
   "metadata": {},
   "source": [
    "To get an individual group, use the `get_sample()` method where you could give the name, id or nickname of the sample"
   ]
  },
  {
   "cell_type": "code",
   "execution_count": 24,
   "metadata": {},
   "outputs": [],
   "source": [
    "rcf = fu.get_sample(\"Redshift Completeness Factor\") "
   ]
  },
  {
   "cell_type": "code",
   "execution_count": 25,
   "metadata": {},
   "outputs": [
    {
     "data": {
      "text/html": [
       "<div>\n",
       "<style scoped>\n",
       "    .dataframe tbody tr th:only-of-type {\n",
       "        vertical-align: middle;\n",
       "    }\n",
       "\n",
       "    .dataframe tbody tr th {\n",
       "        vertical-align: top;\n",
       "    }\n",
       "\n",
       "    .dataframe thead th {\n",
       "        text-align: right;\n",
       "    }\n",
       "</style>\n",
       "<table border=\"1\" class=\"dataframe\">\n",
       "  <thead>\n",
       "    <tr style=\"text-align: right;\">\n",
       "      <th></th>\n",
       "      <th>index</th>\n",
       "      <th>redshift</th>\n",
       "      <th>ra</th>\n",
       "      <th>dec</th>\n",
       "      <th>classification</th>\n",
       "      <th>created_at</th>\n",
       "      <th>last_detected_at</th>\n",
       "    </tr>\n",
       "    <tr>\n",
       "      <th>name</th>\n",
       "      <th></th>\n",
       "      <th></th>\n",
       "      <th></th>\n",
       "      <th></th>\n",
       "      <th></th>\n",
       "      <th></th>\n",
       "      <th></th>\n",
       "    </tr>\n",
       "  </thead>\n",
       "  <tbody>\n",
       "    <tr>\n",
       "      <th>ZTF20acigqfi</th>\n",
       "      <td>0</td>\n",
       "      <td>NaN</td>\n",
       "      <td>326.763651</td>\n",
       "      <td>-17.855225</td>\n",
       "      <td>[]</td>\n",
       "      <td>2020-10-21T08:57:07.681106</td>\n",
       "      <td>2020-12-01T02:36:08.999997+00:00</td>\n",
       "    </tr>\n",
       "    <tr>\n",
       "      <th>ZTF20acmgscj</th>\n",
       "      <td>1</td>\n",
       "      <td>0.039188</td>\n",
       "      <td>167.292834</td>\n",
       "      <td>8.187063</td>\n",
       "      <td>[]</td>\n",
       "      <td>2020-10-21T12:50:18.076237</td>\n",
       "      <td>2020-10-23T12:48:37.995840+00:00</td>\n",
       "    </tr>\n",
       "    <tr>\n",
       "      <th>ZTF20acgided</th>\n",
       "      <td>2</td>\n",
       "      <td>0.017000</td>\n",
       "      <td>326.826949</td>\n",
       "      <td>32.095770</td>\n",
       "      <td>IIP</td>\n",
       "      <td>2020-10-22T00:34:44.932988</td>\n",
       "      <td>2021-01-13T03:20:13.004163+00:00</td>\n",
       "    </tr>\n",
       "    <tr>\n",
       "      <th>ZTF20aceegjt</th>\n",
       "      <td>3</td>\n",
       "      <td>NaN</td>\n",
       "      <td>14.311293</td>\n",
       "      <td>43.099177</td>\n",
       "      <td>[]</td>\n",
       "      <td>2020-10-22T08:04:39.938771</td>\n",
       "      <td>2020-10-22T07:47:04.004142+00:00</td>\n",
       "    </tr>\n",
       "    <tr>\n",
       "      <th>ZTF18acayrgz</th>\n",
       "      <td>4</td>\n",
       "      <td>NaN</td>\n",
       "      <td>2.837528</td>\n",
       "      <td>37.656374</td>\n",
       "      <td>AGN</td>\n",
       "      <td>2020-10-22T08:03:40.487949</td>\n",
       "      <td>2021-02-09T03:13:55.997759+00:00</td>\n",
       "    </tr>\n",
       "    <tr>\n",
       "      <th>...</th>\n",
       "      <td>...</td>\n",
       "      <td>...</td>\n",
       "      <td>...</td>\n",
       "      <td>...</td>\n",
       "      <td>...</td>\n",
       "      <td>...</td>\n",
       "      <td>...</td>\n",
       "    </tr>\n",
       "    <tr>\n",
       "      <th>ZTF21aaqdxzv</th>\n",
       "      <td>7850</td>\n",
       "      <td>0.070360</td>\n",
       "      <td>235.654500</td>\n",
       "      <td>6.854556</td>\n",
       "      <td>[]</td>\n",
       "      <td>2021-03-20T12:06:26.297329</td>\n",
       "      <td>2021-03-29T10:08:01.000315+00:00</td>\n",
       "    </tr>\n",
       "    <tr>\n",
       "      <th>ZTF21aaqyuun</th>\n",
       "      <td>7851</td>\n",
       "      <td>0.019200</td>\n",
       "      <td>176.096989</td>\n",
       "      <td>8.178177</td>\n",
       "      <td>hosted</td>\n",
       "      <td>2021-03-30T07:11:27.585685</td>\n",
       "      <td>2021-03-31T08:18:40.000336+00:00</td>\n",
       "    </tr>\n",
       "    <tr>\n",
       "      <th>ZTF21aaquiwu</th>\n",
       "      <td>7852</td>\n",
       "      <td>0.040520</td>\n",
       "      <td>212.229666</td>\n",
       "      <td>54.715205</td>\n",
       "      <td>[]</td>\n",
       "      <td>2021-03-27T08:31:44.236292</td>\n",
       "      <td>2021-03-30T10:53:28.000329+00:00</td>\n",
       "    </tr>\n",
       "    <tr>\n",
       "      <th>ZTF21aarasvn</th>\n",
       "      <td>7853</td>\n",
       "      <td>NaN</td>\n",
       "      <td>148.102582</td>\n",
       "      <td>-11.224139</td>\n",
       "      <td>[]</td>\n",
       "      <td>2021-03-30T18:42:56.492961</td>\n",
       "      <td>2021-03-31T05:33:33.998383+00:00</td>\n",
       "    </tr>\n",
       "    <tr>\n",
       "      <th>ZTF21aarazam</th>\n",
       "      <td>7854</td>\n",
       "      <td>NaN</td>\n",
       "      <td>148.880474</td>\n",
       "      <td>-26.325397</td>\n",
       "      <td>[]</td>\n",
       "      <td>2021-03-30T19:09:55.961298</td>\n",
       "      <td>2021-03-31T06:34:13.995860+00:00</td>\n",
       "    </tr>\n",
       "  </tbody>\n",
       "</table>\n",
       "<p>7855 rows × 7 columns</p>\n",
       "</div>"
      ],
      "text/plain": [
       "              index  redshift          ra        dec classification  \\\n",
       "name                                                                  \n",
       "ZTF20acigqfi      0       NaN  326.763651 -17.855225             []   \n",
       "ZTF20acmgscj      1  0.039188  167.292834   8.187063             []   \n",
       "ZTF20acgided      2  0.017000  326.826949  32.095770            IIP   \n",
       "ZTF20aceegjt      3       NaN   14.311293  43.099177             []   \n",
       "ZTF18acayrgz      4       NaN    2.837528  37.656374            AGN   \n",
       "...             ...       ...         ...        ...            ...   \n",
       "ZTF21aaqdxzv   7850  0.070360  235.654500   6.854556             []   \n",
       "ZTF21aaqyuun   7851  0.019200  176.096989   8.178177         hosted   \n",
       "ZTF21aaquiwu   7852  0.040520  212.229666  54.715205             []   \n",
       "ZTF21aarasvn   7853       NaN  148.102582 -11.224139             []   \n",
       "ZTF21aarazam   7854       NaN  148.880474 -26.325397             []   \n",
       "\n",
       "                              created_at                  last_detected_at  \n",
       "name                                                                        \n",
       "ZTF20acigqfi  2020-10-21T08:57:07.681106  2020-12-01T02:36:08.999997+00:00  \n",
       "ZTF20acmgscj  2020-10-21T12:50:18.076237  2020-10-23T12:48:37.995840+00:00  \n",
       "ZTF20acgided  2020-10-22T00:34:44.932988  2021-01-13T03:20:13.004163+00:00  \n",
       "ZTF20aceegjt  2020-10-22T08:04:39.938771  2020-10-22T07:47:04.004142+00:00  \n",
       "ZTF18acayrgz  2020-10-22T08:03:40.487949  2021-02-09T03:13:55.997759+00:00  \n",
       "...                                  ...                               ...  \n",
       "ZTF21aaqdxzv  2021-03-20T12:06:26.297329  2021-03-29T10:08:01.000315+00:00  \n",
       "ZTF21aaqyuun  2021-03-30T07:11:27.585685  2021-03-31T08:18:40.000336+00:00  \n",
       "ZTF21aaquiwu  2021-03-27T08:31:44.236292  2021-03-30T10:53:28.000329+00:00  \n",
       "ZTF21aarasvn  2021-03-30T18:42:56.492961  2021-03-31T05:33:33.998383+00:00  \n",
       "ZTF21aarazam  2021-03-30T19:09:55.961298  2021-03-31T06:34:13.995860+00:00  \n",
       "\n",
       "[7855 rows x 7 columns]"
      ]
     },
     "execution_count": 25,
     "metadata": {},
     "output_type": "execute_result"
    }
   ],
   "source": [
    "rcf.data"
   ]
  },
  {
   "cell_type": "code",
   "execution_count": 10,
   "metadata": {},
   "outputs": [],
   "source": [
    "rcf2 = fu.get_sample(\"rcf\") "
   ]
  },
  {
   "cell_type": "code",
   "execution_count": 11,
   "metadata": {},
   "outputs": [
    {
     "data": {
      "text/plain": [
       "'Redshift Completeness Factor'"
      ]
     },
     "execution_count": 11,
     "metadata": {},
     "output_type": "execute_result"
    }
   ],
   "source": [
    "rcf2.groupname"
   ]
  },
  {
   "cell_type": "code",
   "execution_count": 12,
   "metadata": {},
   "outputs": [],
   "source": [
    "nuclear = fu.get_sample(\"Nuclear Transients\")"
   ]
  },
  {
   "cell_type": "markdown",
   "metadata": {},
   "source": [
    "You can then get the names that are in both"
   ]
  },
  {
   "cell_type": "code",
   "execution_count": 26,
   "metadata": {},
   "outputs": [
    {
     "data": {
      "text/plain": [
       "array(['ZTF18acayrgz', 'ZTF18abxhyqv', 'ZTF20acgokbj', 'ZTF20acjlkpe',\n",
       "       'ZTF20acjutba', 'ZTF20abisysx', 'ZTF19aarmtgu', 'ZTF20aclnplo',\n",
       "       'ZTF20acifwef', 'ZTF20accodxy', 'ZTF20ackdkva', 'ZTF18abbhlxk',\n",
       "       'ZTF20acggvnn', 'ZTF20acobevy', 'ZTF20ackitai', 'ZTF20ackhzba',\n",
       "       'ZTF20abzoaas', 'ZTF20acbcfaa', 'ZTF20aanlygx', 'ZTF20acnwdau',\n",
       "       'ZTF18aadsuxd', 'ZTF20aceoadf', 'ZTF20acitpfz', 'ZTF20acgkbkm',\n",
       "       'ZTF20ackijbs', 'ZTF20acotwur', 'ZTF20acoalxr', 'ZTF20acklcyp',\n",
       "       'ZTF18accnlhl', 'ZTF20acgrvkt', 'ZTF20acoqlav', 'ZTF20aatxryt',\n",
       "       'ZTF19aazlpqy', 'ZTF19aatubsj', 'ZTF18abrzevn', 'ZTF18aagteoy',\n",
       "       'ZTF18acbyeid', 'ZTF20abowque', 'ZTF20aaggyef', 'ZTF20aasivtu',\n",
       "       'ZTF20abgxlut', 'ZTF20abvquuo', 'ZTF19acbchel', 'ZTF20abxclnl',\n",
       "       'ZTF20abobpcb', 'ZTF19abfjjbi', 'ZTF20aasuiks', 'ZTF18accdrut',\n",
       "       'ZTF20abxvcrk', 'ZTF18acrxnfr', 'ZTF19acgkead', 'ZTF18abolvzu',\n",
       "       'ZTF18abtgnxs', 'ZTF18aalsiji', 'ZTF20achwpvs', 'ZTF18acnmoiy',\n",
       "       'ZTF19abclykm', 'ZTF19aanfrmq', 'ZTF18abotthj', 'ZTF18adbacqi',\n",
       "       'ZTF19ablpwta', 'ZTF19abcsyho', 'ZTF18acpdwoa', 'ZTF19adaiyql',\n",
       "       'ZTF20aastgns', 'ZTF20aabcemq', 'ZTF19aawlgne', 'ZTF19aaefsad',\n",
       "       'ZTF18abxdqxa', 'ZTF19aagzanb', 'ZTF18abehrdw', 'ZTF18aasszwr',\n",
       "       'ZTF18abwcgrm', 'ZTF18acwugwx', 'ZTF20aaurfwa', 'ZTF20aaetsrw',\n",
       "       'ZTF18acwwkyl', 'ZTF19aaippyv', 'ZTF18acvvudh', 'ZTF20abfcszi',\n",
       "       'ZTF18aaojsvk', 'ZTF19aaingkb', 'ZTF18abzrsuh', 'ZTF19aarioci',\n",
       "       'ZTF18adachkc', 'ZTF20aayvuwu', 'ZTF20abcxmwf', 'ZTF18acewwqf',\n",
       "       'ZTF19aarsrls', 'ZTF18aboerpp', 'ZTF19aarpymc', 'ZTF18abzylls',\n",
       "       'ZTF18abvklbt', 'ZTF18abxhsyn', 'ZTF18abxrngw', 'ZTF20acbttnt',\n",
       "       'ZTF18abvnsmh', 'ZTF20abgbwbe', 'ZTF18abxzitr', 'ZTF18aacdvmi',\n",
       "       'ZTF18acxcokz', 'ZTF20achtisx', 'ZTF20abjwvae', 'ZTF20acgprxo',\n",
       "       'ZTF20acjpwas', 'ZTF18abtnfmp', 'ZTF19aaiqmgl', 'ZTF20acgremo',\n",
       "       'ZTF18aajnqmp', 'ZTF19abxvmid', 'ZTF20aanmyts', 'ZTF19aatjfny',\n",
       "       'ZTF20aafxzej', 'ZTF19abwtgqb', 'ZTF18aarbgrh', 'ZTF19aaqhmju',\n",
       "       'ZTF19aacipwt', 'ZTF18absrlhv', 'ZTF19abjmnlw', 'ZTF19aaweqnm',\n",
       "       'ZTF18acwwljq', 'ZTF19aawscqd', 'ZTF18aauhley', 'ZTF18ablvxdg',\n",
       "       'ZTF19aapreis', 'ZTF18absltuj', 'ZTF19aafltef', 'ZTF19aaipqls',\n",
       "       'ZTF19acccyyt', 'ZTF18acswirx', 'ZTF18aajswer', 'ZTF18aazndjw',\n",
       "       'ZTF19aalxsfe', 'ZTF18ablwvcy', 'ZTF19aayvyfa', 'ZTF18abuegjm',\n",
       "       'ZTF17aaazdba', 'ZTF18abcbwnd', 'ZTF19abegzry', 'ZTF19aacomym',\n",
       "       'ZTF18aabtxvd', 'ZTF19aademoc', 'ZTF17aaapufz', 'ZTF18aaakpsa',\n",
       "       'ZTF18abxwiqz', 'ZTF18aayltmt', 'ZTF18ablwhde', 'ZTF18aavtklk',\n",
       "       'ZTF19aailpwl', 'ZTF18aakgzwi', 'ZTF18abjdnoh', 'ZTF18absiejw',\n",
       "       'ZTF18abnuhuy', 'ZTF17aaburzk', 'ZTF18acnnrar', 'ZTF18acxcttu',\n",
       "       'ZTF18ablrlbm', 'ZTF18aaqiivp', 'ZTF18abtrowl', 'ZTF19aaktorq',\n",
       "       'ZTF18abnnnzk', 'ZTF19aafcgif', 'ZTF18abxyutn', 'ZTF18aaakpbx',\n",
       "       'ZTF18abcohew', 'ZTF18aaaniwu', 'ZTF18aahfohe', 'ZTF18accxhhd',\n",
       "       'ZTF20acbeanu', 'ZTF18aabgroi', 'ZTF18aaakpoh', 'ZTF18aceaape',\n",
       "       'ZTF18aaqlblz', 'ZTF18abmjija', 'ZTF18aceijsp', 'ZTF20acnznms',\n",
       "       'ZTF18acbweyd', 'ZTF18abtoued', 'ZTF20acoxmsr', 'ZTF20acivqxo',\n",
       "       'ZTF20achmjjk', 'ZTF19aanbpus', 'ZTF18abrfccm', 'ZTF20acjynpx',\n",
       "       'ZTF20aclmssm', 'ZTF20acnvprg', 'ZTF20acounqo', 'ZTF20acpeldz',\n",
       "       'ZTF20acpgokr', 'ZTF20acowsyj', 'ZTF19abyjmei', 'ZTF20abxyayj',\n",
       "       'ZTF20acpvbbh', 'ZTF19acwiqrc', 'ZTF20acpksoc', 'ZTF20acpjcoe',\n",
       "       'ZTF20acpjino', 'ZTF20acqexmr', 'ZTF20aaspiic', 'ZTF19aaczyek',\n",
       "       'ZTF20acpvxmk', 'ZTF20acqyfie', 'ZTF20acppsay', 'ZTF20acpwxbg',\n",
       "       'ZTF20acpmcmu', 'ZTF20abrnwfc', 'ZTF20acqoiyt', 'ZTF18abzsimu',\n",
       "       'ZTF20acplqrq', 'ZTF20acqnher', 'ZTF20acqjmzk', 'ZTF20acqqiao',\n",
       "       'ZTF20acppruo', 'ZTF20acrheie', 'ZTF20acppzah', 'ZTF19abhelmm',\n",
       "       'ZTF20acrjjse', 'ZTF20acqzpta', 'ZTF20acqwcoi', 'ZTF20acqpzbo',\n",
       "       'ZTF20actdhix', 'ZTF20acrzwvx', 'ZTF20actpatx', 'ZTF20actvffz',\n",
       "       'ZTF20acqikeh', 'ZTF20acqwbbb', 'ZTF20acpklpq', 'ZTF20actqtfk',\n",
       "       'ZTF20acodsyb', 'ZTF20acsfciw', 'ZTF20actkuxm', 'ZTF20actvpyc',\n",
       "       'ZTF20actvgsy', 'ZTF20actoakx', 'ZTF20acurrzb', 'ZTF20acuiktl',\n",
       "       'ZTF20acpguww', 'ZTF20acutyac', 'ZTF20acujaft', 'ZTF20acvamwo',\n",
       "       'ZTF18acealtv', 'ZTF20actlsch', 'ZTF20acvkwkt', 'ZTF20actnran',\n",
       "       'ZTF20acumcrz', 'ZTF20acufkdp', 'ZTF20acungqk', 'ZTF20actoabw',\n",
       "       'ZTF20acggqsg', 'ZTF20actlvpy', 'ZTF20acufbmq', 'ZTF20acwphph',\n",
       "       'ZTF20actrbvz', 'ZTF20acvbaax', 'ZTF20actkjaa', 'ZTF19abwsfsl',\n",
       "       'ZTF20acxyury', 'ZTF20acwytxn', 'ZTF18acvhqfj', 'ZTF20acwyoqx',\n",
       "       'ZTF20acvcxkz', 'ZTF20acuqyea', 'ZTF20acvivzp', 'ZTF20acxmxth',\n",
       "       'ZTF20acxfcmr', 'ZTF20acpgolz', 'ZTF20acxbbru', 'ZTF20acwphzx',\n",
       "       'ZTF20acxnjat', 'ZTF20abnorit', 'ZTF20achpcvt', 'ZTF18aahfbqp',\n",
       "       'ZTF20acywbes', 'ZTF21aaabvzf', 'ZTF18aaqxbvf', 'ZTF19aabyxhe',\n",
       "       'ZTF18aarrwmi', 'ZTF20acyxzzf', 'ZTF21aaapesv', 'ZTF20adagnfh',\n",
       "       'ZTF20acasmjl', 'ZTF20adaenal', 'ZTF21aaafzwx', 'ZTF21aaaekui',\n",
       "       'ZTF20acwztut', 'ZTF21aaaytyv', 'ZTF21aaaytny', 'ZTF20acvfraq',\n",
       "       'ZTF20acywbdi', 'ZTF21aaafgmv', 'ZTF20accxwro', 'ZTF21aaavghg',\n",
       "       'ZTF20adafguh', 'ZTF21aaaiakl', 'ZTF20acuofwe', 'ZTF21aadrlji',\n",
       "       'ZTF21aadsoer', 'ZTF21aacugzd', 'ZTF19aaylipu', 'ZTF21aacudxe',\n",
       "       'ZTF19absxwow', 'ZTF21aaagmlj', 'ZTF21aadktwq', 'ZTF21aadrmok',\n",
       "       'ZTF21aadrtcs', 'ZTF21aaasxel', 'ZTF21aadkgpm', 'ZTF21aadatfg',\n",
       "       'ZTF21aaabvoj', 'ZTF21aaekmoy', 'ZTF19acnskyy', 'ZTF21aadrtqz',\n",
       "       'ZTF21aagkswj', 'ZTF21aagshha', 'ZTF21aagycrc', 'ZTF21aafmltt',\n",
       "       'ZTF18abrbywo', 'ZTF21aaflcbk', 'ZTF21aafdvxz', 'ZTF19aabyoce',\n",
       "       'ZTF21aaflcai', 'ZTF21aagnwkk', 'ZTF21aagsihi', 'ZTF21aahdpqu',\n",
       "       'ZTF21aaglrzc', 'ZTF21aagrzqz', 'ZTF21aagtexi', 'ZTF21aaipypa',\n",
       "       'ZTF21aahfjlo', 'ZTF21aahargb', 'ZTF21aagtcsj', 'ZTF21aaelbdm',\n",
       "       'ZTF21aagkxnb', 'ZTF21aaevrjl', 'ZTF21aahfjbs', 'ZTF21aagxmcs',\n",
       "       'ZTF21aahptas', 'ZTF21aaixlfe', 'ZTF18aawznqy', 'ZTF21aajtsba',\n",
       "       'ZTF18aadlaxo', 'ZTF21aalimtr', 'ZTF21aaixibu', 'ZTF21aajyufk',\n",
       "       'ZTF19acekltt', 'ZTF21aajuerd', 'ZTF21aaikpnj', 'ZTF21aakbgpf',\n",
       "       'ZTF21aahnqnn', 'ZTF21aahqahr', 'ZTF21aagmhzg', 'ZTF21aahaksd',\n",
       "       'ZTF21aakygxl', 'ZTF21aahzspd', 'ZTF21aagskhr', 'ZTF19aaapnrt',\n",
       "       'ZTF21aagxvul', 'ZTF18aakbuks', 'ZTF21aaasirb', 'ZTF21aamnnjb',\n",
       "       'ZTF18aaviokz', 'ZTF18aajawol', 'ZTF21aamkxbl', 'ZTF21aamwzfi',\n",
       "       'ZTF18acufhuz', 'ZTF21aamxduf', 'ZTF21aanxhjv', 'ZTF21aanswls',\n",
       "       'ZTF21aanuyro', 'ZTF21aaaokyp', 'ZTF21aaopqqk', 'ZTF18acjxyak',\n",
       "       'ZTF21aaoexjt', 'ZTF21aappehx', 'ZTF20aarvpbq', 'ZTF21aaoghxv',\n",
       "       'ZTF21aaoqayg', 'ZTF21aaovhxe', 'ZTF18aavdwmh', 'ZTF21aaphjyn',\n",
       "       'ZTF21aapkvrd', 'ZTF21aaqndlk', 'ZTF21aapfmut', 'ZTF21aaptnwj',\n",
       "       'ZTF21aaqhqke', 'ZTF21aapvxnf', 'ZTF21aapnydy', 'ZTF21aaqftpz',\n",
       "       'ZTF21aaqpykm', 'ZTF21aaqjmnn', 'ZTF21aaqgrrf'], dtype='<U12')"
      ]
     },
     "execution_count": 26,
     "metadata": {},
     "output_type": "execute_result"
    }
   ],
   "source": [
    "fu.get_sample_overlap(\"Redshift Completeness Factor\", \"Nuclear Transients\")"
   ]
  },
  {
   "cell_type": "markdown",
   "metadata": {},
   "source": [
    "So you see we have many many sources, maybe we don't need all the samples. \n",
    "\n",
    "For instance, let's you don't need   `RCF Junk and Variables`, `Nuclear Transients` and `Sitewide Group` are not needed."
   ]
  },
  {
   "cell_type": "code",
   "execution_count": 4,
   "metadata": {},
   "outputs": [],
   "source": [
    "fu = fritz.FritzAccess()"
   ]
  },
  {
   "cell_type": "code",
   "execution_count": 5,
   "metadata": {},
   "outputs": [
    {
     "name": "stdout",
     "output_type": "stream",
     "text": [
      "CPU times: user 403 ms, sys: 49.4 ms, total: 453 ms\n",
      "Wall time: 5.47 s\n"
     ]
    }
   ],
   "source": [
    "%time fu.load_samples(ignorenames_or_id=[\"RCF Junk and Variables\",\"Nuclear Transients\",\"Sitewide Group\"])"
   ]
  },
  {
   "cell_type": "code",
   "execution_count": 6,
   "metadata": {},
   "outputs": [
    {
     "data": {
      "text/plain": [
       "{'AmpelGroup_test1': 201,\n",
       " 'Calibrator SNe Ia': 15,\n",
       " 'Cosmology with Type Ia Supernovae': 2,\n",
       " 'Infant Supernovae': 329,\n",
       " 'Physics of Transients': 14,\n",
       " 'Redshift Completeness Factor': 7840,\n",
       " 'Rigault Research Group': 2,\n",
       " 'Same host SNe': 119,\n",
       " 'SEDM Partnership-wide Group': 605,\n",
       " 'Treasures': 901,\n",
       " 'Type Ia Supernovae': 11,\n",
       " 'Weizmann_Test': 78}"
      ]
     },
     "execution_count": 6,
     "metadata": {},
     "output_type": "execute_result"
    }
   ],
   "source": [
    "fu.get_samples_size()"
   ]
  },
  {
   "cell_type": "code",
   "execution_count": 7,
   "metadata": {},
   "outputs": [
    {
     "data": {
      "text/html": [
       "<table style=\"border: 2px solid white;\">\n",
       "<tr>\n",
       "<td style=\"vertical-align: top; border: 0px solid white\">\n",
       "<h3 style=\"text-align: left;\">Client</h3>\n",
       "<ul style=\"text-align: left; list-style: none; margin: 0; padding: 0;\">\n",
       "  <li><b>Scheduler: </b>tcp://127.0.0.1:64497</li>\n",
       "  <li><b>Dashboard: </b><a href='http://127.0.0.1:8787/status' target='_blank'>http://127.0.0.1:8787/status</a></li>\n",
       "</ul>\n",
       "</td>\n",
       "<td style=\"vertical-align: top; border: 0px solid white\">\n",
       "<h3 style=\"text-align: left;\">Cluster</h3>\n",
       "<ul style=\"text-align: left; list-style:none; margin: 0; padding: 0;\">\n",
       "  <li><b>Workers: </b>4</li>\n",
       "  <li><b>Cores: </b>4</li>\n",
       "  <li><b>Memory: </b>17.18 GB</li>\n",
       "</ul>\n",
       "</td>\n",
       "</tr>\n",
       "</table>"
      ],
      "text/plain": [
       "<Client: 'tcp://127.0.0.1:64497' processes=4 threads=4, memory=17.18 GB>"
      ]
     },
     "execution_count": 7,
     "metadata": {},
     "output_type": "execute_result"
    }
   ],
   "source": [
    "from dask.distributed import Client\n",
    "\n",
    "#client = Client(n_workers=16)\n",
    "client = Client() # faster I think\n",
    "client"
   ]
  },
  {
   "cell_type": "code",
   "execution_count": 11,
   "metadata": {},
   "outputs": [
    {
     "data": {
      "text/plain": [
       "8825"
      ]
     },
     "execution_count": 11,
     "metadata": {},
     "output_type": "execute_result"
    }
   ],
   "source": [
    "len(fu.names)"
   ]
  },
  {
   "cell_type": "code",
   "execution_count": 10,
   "metadata": {},
   "outputs": [
    {
     "data": {
      "text/html": [
       "<div>\n",
       "<style scoped>\n",
       "    .dataframe tbody tr th:only-of-type {\n",
       "        vertical-align: middle;\n",
       "    }\n",
       "\n",
       "    .dataframe tbody tr th {\n",
       "        vertical-align: top;\n",
       "    }\n",
       "\n",
       "    .dataframe thead th {\n",
       "        text-align: right;\n",
       "    }\n",
       "</style>\n",
       "<table border=\"1\" class=\"dataframe\">\n",
       "  <thead>\n",
       "    <tr style=\"text-align: right;\">\n",
       "      <th></th>\n",
       "      <th></th>\n",
       "      <th>redshift</th>\n",
       "      <th>ra</th>\n",
       "      <th>dec</th>\n",
       "      <th>classification</th>\n",
       "      <th>created_at</th>\n",
       "      <th>last_detected_at</th>\n",
       "    </tr>\n",
       "    <tr>\n",
       "      <th></th>\n",
       "      <th>name</th>\n",
       "      <th></th>\n",
       "      <th></th>\n",
       "      <th></th>\n",
       "      <th></th>\n",
       "      <th></th>\n",
       "      <th></th>\n",
       "    </tr>\n",
       "  </thead>\n",
       "  <tbody>\n",
       "    <tr>\n",
       "      <th rowspan=\"5\" valign=\"top\">63</th>\n",
       "      <th>ZTF18aaaatgm</th>\n",
       "      <td>NaN</td>\n",
       "      <td>69.648790</td>\n",
       "      <td>58.604589</td>\n",
       "      <td>[]</td>\n",
       "      <td>2020-11-02T07:58:16.178017</td>\n",
       "      <td>2021-01-02T06:49:43.003212+00:00</td>\n",
       "    </tr>\n",
       "    <tr>\n",
       "      <th>ZTF18aaaaudk</th>\n",
       "      <td>NaN</td>\n",
       "      <td>62.403965</td>\n",
       "      <td>33.493642</td>\n",
       "      <td>[]</td>\n",
       "      <td>2020-11-04T09:51:20.341123</td>\n",
       "      <td>2021-03-21T04:27:12.003848+00:00</td>\n",
       "    </tr>\n",
       "    <tr>\n",
       "      <th>ZTF18aaabiea</th>\n",
       "      <td>NaN</td>\n",
       "      <td>114.825156</td>\n",
       "      <td>1.617942</td>\n",
       "      <td>AGN</td>\n",
       "      <td>2020-11-12T13:05:36.975570</td>\n",
       "      <td>2021-03-30T04:38:31.997746+00:00</td>\n",
       "    </tr>\n",
       "    <tr>\n",
       "      <th>ZTF18aaabsao</th>\n",
       "      <td>NaN</td>\n",
       "      <td>123.349973</td>\n",
       "      <td>54.376934</td>\n",
       "      <td>AGN</td>\n",
       "      <td>2020-11-11T14:12:59.304524</td>\n",
       "      <td>2020-12-21T10:52:58.995860+00:00</td>\n",
       "    </tr>\n",
       "    <tr>\n",
       "      <th>ZTF18aacnlxz</th>\n",
       "      <td>0.072500</td>\n",
       "      <td>134.954557</td>\n",
       "      <td>38.109086</td>\n",
       "      <td>Type II</td>\n",
       "      <td>2020-11-22T12:27:04.889881</td>\n",
       "      <td>2020-12-21T10:10:24.000947+00:00</td>\n",
       "    </tr>\n",
       "    <tr>\n",
       "      <th>...</th>\n",
       "      <th>...</th>\n",
       "      <td>...</td>\n",
       "      <td>...</td>\n",
       "      <td>...</td>\n",
       "      <td>...</td>\n",
       "      <td>...</td>\n",
       "      <td>...</td>\n",
       "    </tr>\n",
       "    <tr>\n",
       "      <th rowspan=\"5\" valign=\"top\">65</th>\n",
       "      <th>ZTF21aaahuox</th>\n",
       "      <td>0.073780</td>\n",
       "      <td>182.908229</td>\n",
       "      <td>12.163012</td>\n",
       "      <td>Ia</td>\n",
       "      <td>2021-01-02T12:08:10.560114</td>\n",
       "      <td>2021-02-19T08:57:00.996465+00:00</td>\n",
       "    </tr>\n",
       "    <tr>\n",
       "      <th>ZTF21aakupth</th>\n",
       "      <td>0.023483</td>\n",
       "      <td>196.596787</td>\n",
       "      <td>29.657811</td>\n",
       "      <td>[]</td>\n",
       "      <td>2021-02-13T08:38:18.383797</td>\n",
       "      <td>2021-03-30T08:05:45.000958+00:00</td>\n",
       "    </tr>\n",
       "    <tr>\n",
       "      <th>ZTF21aamiukc</th>\n",
       "      <td>0.078000</td>\n",
       "      <td>132.912938</td>\n",
       "      <td>23.935921</td>\n",
       "      <td>Ia</td>\n",
       "      <td>2021-02-21T06:20:06.238316</td>\n",
       "      <td>2021-03-30T07:47:53.001583+00:00</td>\n",
       "    </tr>\n",
       "    <tr>\n",
       "      <th>ZTF21aapzzgf</th>\n",
       "      <td>0.069390</td>\n",
       "      <td>164.480671</td>\n",
       "      <td>-13.790984</td>\n",
       "      <td>[]</td>\n",
       "      <td>2021-03-20T11:19:31.000619</td>\n",
       "      <td>2021-03-28T08:11:49.004174+00:00</td>\n",
       "    </tr>\n",
       "    <tr>\n",
       "      <th>ZTF21aaqugxm</th>\n",
       "      <td>0.018590</td>\n",
       "      <td>173.690568</td>\n",
       "      <td>42.965365</td>\n",
       "      <td>[]</td>\n",
       "      <td>2021-03-27T07:58:44.552171</td>\n",
       "      <td>2021-03-30T08:41:01.999695+00:00</td>\n",
       "    </tr>\n",
       "  </tbody>\n",
       "</table>\n",
       "<p>10117 rows × 6 columns</p>\n",
       "</div>"
      ],
      "text/plain": [
       "                 redshift          ra        dec classification  \\\n",
       "   name                                                           \n",
       "63 ZTF18aaaatgm       NaN   69.648790  58.604589             []   \n",
       "   ZTF18aaaaudk       NaN   62.403965  33.493642             []   \n",
       "   ZTF18aaabiea       NaN  114.825156   1.617942            AGN   \n",
       "   ZTF18aaabsao       NaN  123.349973  54.376934            AGN   \n",
       "   ZTF18aacnlxz  0.072500  134.954557  38.109086        Type II   \n",
       "...                   ...         ...        ...            ...   \n",
       "65 ZTF21aaahuox  0.073780  182.908229  12.163012             Ia   \n",
       "   ZTF21aakupth  0.023483  196.596787  29.657811             []   \n",
       "   ZTF21aamiukc  0.078000  132.912938  23.935921             Ia   \n",
       "   ZTF21aapzzgf  0.069390  164.480671 -13.790984             []   \n",
       "   ZTF21aaqugxm  0.018590  173.690568  42.965365             []   \n",
       "\n",
       "                                 created_at                  last_detected_at  \n",
       "   name                                                                        \n",
       "63 ZTF18aaaatgm  2020-11-02T07:58:16.178017  2021-01-02T06:49:43.003212+00:00  \n",
       "   ZTF18aaaaudk  2020-11-04T09:51:20.341123  2021-03-21T04:27:12.003848+00:00  \n",
       "   ZTF18aaabiea  2020-11-12T13:05:36.975570  2021-03-30T04:38:31.997746+00:00  \n",
       "   ZTF18aaabsao  2020-11-11T14:12:59.304524  2020-12-21T10:52:58.995860+00:00  \n",
       "   ZTF18aacnlxz  2020-11-22T12:27:04.889881  2020-12-21T10:10:24.000947+00:00  \n",
       "...                                     ...                               ...  \n",
       "65 ZTF21aaahuox  2021-01-02T12:08:10.560114  2021-02-19T08:57:00.996465+00:00  \n",
       "   ZTF21aakupth  2021-02-13T08:38:18.383797  2021-03-30T08:05:45.000958+00:00  \n",
       "   ZTF21aamiukc  2021-02-21T06:20:06.238316  2021-03-30T07:47:53.001583+00:00  \n",
       "   ZTF21aapzzgf  2021-03-20T11:19:31.000619  2021-03-28T08:11:49.004174+00:00  \n",
       "   ZTF21aaqugxm  2021-03-27T07:58:44.552171  2021-03-30T08:41:01.999695+00:00  \n",
       "\n",
       "[10117 rows x 6 columns]"
      ]
     },
     "execution_count": 10,
     "metadata": {},
     "output_type": "execute_result"
    }
   ],
   "source": [
    "pandas.concat(fu._call_down_sample_(\"data\", isfunc=False))"
   ]
  },
  {
   "cell_type": "markdown",
   "metadata": {},
   "source": [
    "Store actually call down each sample store methods"
   ]
  },
  {
   "cell_type": "code",
   "execution_count": 11,
   "metadata": {},
   "outputs": [],
   "source": [
    "fu.store()"
   ]
  },
  {
   "cell_type": "code",
   "execution_count": 3,
   "metadata": {},
   "outputs": [
    {
     "data": {
      "text/plain": [
       "['fritz_sample_125.csv',\n",
       " 'fritz_sample_253.csv',\n",
       " 'fritz_sample_41.csv',\n",
       " 'fritz_sample_55.csv',\n",
       " 'fritz_sample_251.csv',\n",
       " 'fritz_sample_209.csv',\n",
       " 'fritz_sample_215.csv',\n",
       " 'fritz_sample_177.csv',\n",
       " 'fritz_groups.json',\n",
       " 'fritz_sample_65.csv',\n",
       " 'fritz_sample_49.csv',\n",
       " 'fritz_sample_88.csv',\n",
       " 'fritz_sample_63.csv']"
      ]
     },
     "execution_count": 3,
     "metadata": {},
     "output_type": "execute_result"
    }
   ],
   "source": [
    "# Check if rcf is there.\n",
    "import os\n",
    "os.listdir(os.path.join(os.getenv('ZTFDATA'), \"fritz/sample/\"))"
   ]
  },
  {
   "cell_type": "code",
   "execution_count": null,
   "metadata": {},
   "outputs": [],
   "source": []
  },
  {
   "cell_type": "markdown",
   "metadata": {},
   "source": [
    "## load_local()\n",
    "\n",
    "the `load_local()` class method enable to load the stored samples (so there data)"
   ]
  },
  {
   "cell_type": "code",
   "execution_count": 7,
   "metadata": {},
   "outputs": [
    {
     "name": "stdout",
     "output_type": "stream",
     "text": [
      "CPU times: user 140 ms, sys: 11.7 ms, total: 151 ms\n",
      "Wall time: 557 ms\n"
     ]
    }
   ],
   "source": [
    "%time fu_loaded = fritz.FritzAccess.load_local()"
   ]
  },
  {
   "cell_type": "code",
   "execution_count": 8,
   "metadata": {},
   "outputs": [
    {
     "data": {
      "text/html": [
       "<div>\n",
       "<style scoped>\n",
       "    .dataframe tbody tr th:only-of-type {\n",
       "        vertical-align: middle;\n",
       "    }\n",
       "\n",
       "    .dataframe tbody tr th {\n",
       "        vertical-align: top;\n",
       "    }\n",
       "\n",
       "    .dataframe thead th {\n",
       "        text-align: right;\n",
       "    }\n",
       "</style>\n",
       "<table border=\"1\" class=\"dataframe\">\n",
       "  <thead>\n",
       "    <tr style=\"text-align: right;\">\n",
       "      <th></th>\n",
       "      <th></th>\n",
       "      <th>index</th>\n",
       "      <th>redshift</th>\n",
       "      <th>ra</th>\n",
       "      <th>dec</th>\n",
       "      <th>classification</th>\n",
       "      <th>created_at</th>\n",
       "      <th>last_detected_at</th>\n",
       "    </tr>\n",
       "    <tr>\n",
       "      <th></th>\n",
       "      <th>name</th>\n",
       "      <th></th>\n",
       "      <th></th>\n",
       "      <th></th>\n",
       "      <th></th>\n",
       "      <th></th>\n",
       "      <th></th>\n",
       "      <th></th>\n",
       "    </tr>\n",
       "  </thead>\n",
       "  <tbody>\n",
       "    <tr>\n",
       "      <th rowspan=\"2\" valign=\"top\">125</th>\n",
       "      <th>ZTF20acqzjqz</th>\n",
       "      <td>0</td>\n",
       "      <td>0.030000</td>\n",
       "      <td>43.746057</td>\n",
       "      <td>4.060219</td>\n",
       "      <td>Ia</td>\n",
       "      <td>2020-11-17T05:58:18.438444</td>\n",
       "      <td>2021-02-25T04:11:00.003850+00:00</td>\n",
       "    </tr>\n",
       "    <tr>\n",
       "      <th>ZTF21aagbpvf</th>\n",
       "      <td>1</td>\n",
       "      <td>0.005941</td>\n",
       "      <td>207.061471</td>\n",
       "      <td>68.089712</td>\n",
       "      <td>Ib/c</td>\n",
       "      <td>2021-01-18T11:18:34.032966</td>\n",
       "      <td>2021-03-18T07:48:21.003845+00:00</td>\n",
       "    </tr>\n",
       "    <tr>\n",
       "      <th rowspan=\"3\" valign=\"top\">253</th>\n",
       "      <th>ZTF18acbvgqw</th>\n",
       "      <td>0</td>\n",
       "      <td>0.008673</td>\n",
       "      <td>46.512556</td>\n",
       "      <td>-15.611485</td>\n",
       "      <td>Ia</td>\n",
       "      <td>2020-11-05T06:57:06.837416</td>\n",
       "      <td>2020-02-02T03:38:04.001291+00:00</td>\n",
       "    </tr>\n",
       "    <tr>\n",
       "      <th>ZTF19aacgslb</th>\n",
       "      <td>1</td>\n",
       "      <td>0.004520</td>\n",
       "      <td>157.341541</td>\n",
       "      <td>29.510627</td>\n",
       "      <td>Ia</td>\n",
       "      <td>2020-11-05T03:39:15.319208</td>\n",
       "      <td>2021-02-28T08:10:58.002238+00:00</td>\n",
       "    </tr>\n",
       "    <tr>\n",
       "      <th>ZTF19aatlmbo</th>\n",
       "      <td>2</td>\n",
       "      <td>0.007755</td>\n",
       "      <td>208.371399</td>\n",
       "      <td>40.275421</td>\n",
       "      <td>Ia</td>\n",
       "      <td>2020-11-04T21:37:23.495001</td>\n",
       "      <td>2020-03-28T06:47:16.995837+00:00</td>\n",
       "    </tr>\n",
       "    <tr>\n",
       "      <th>...</th>\n",
       "      <th>...</th>\n",
       "      <td>...</td>\n",
       "      <td>...</td>\n",
       "      <td>...</td>\n",
       "      <td>...</td>\n",
       "      <td>...</td>\n",
       "      <td>...</td>\n",
       "      <td>...</td>\n",
       "    </tr>\n",
       "    <tr>\n",
       "      <th rowspan=\"5\" valign=\"top\">63</th>\n",
       "      <th>ZTF21aahdnpx</th>\n",
       "      <td>196</td>\n",
       "      <td>NaN</td>\n",
       "      <td>139.295916</td>\n",
       "      <td>20.052365</td>\n",
       "      <td>[]</td>\n",
       "      <td>2021-02-05T08:41:16.203917</td>\n",
       "      <td>2021-02-05T08:29:18.003835+00:00</td>\n",
       "    </tr>\n",
       "    <tr>\n",
       "      <th>ZTF21aahkaib</th>\n",
       "      <td>197</td>\n",
       "      <td>0.054894</td>\n",
       "      <td>133.941858</td>\n",
       "      <td>4.222989</td>\n",
       "      <td>[]</td>\n",
       "      <td>2021-02-06T10:48:49.021924</td>\n",
       "      <td>2021-02-06T06:28:22.002235+00:00</td>\n",
       "    </tr>\n",
       "    <tr>\n",
       "      <th>ZTF21aapszhp</th>\n",
       "      <td>198</td>\n",
       "      <td>0.029240</td>\n",
       "      <td>179.887464</td>\n",
       "      <td>30.146720</td>\n",
       "      <td>[]</td>\n",
       "      <td>2021-03-18T08:48:12.662843</td>\n",
       "      <td>2021-03-18T08:34:04.998738+00:00</td>\n",
       "    </tr>\n",
       "    <tr>\n",
       "      <th>ZTF21aaqafcf</th>\n",
       "      <td>199</td>\n",
       "      <td>0.043190</td>\n",
       "      <td>184.143244</td>\n",
       "      <td>60.364532</td>\n",
       "      <td>Ia</td>\n",
       "      <td>2021-03-19T07:58:43.231510</td>\n",
       "      <td>2021-03-30T05:29:18.997433+00:00</td>\n",
       "    </tr>\n",
       "    <tr>\n",
       "      <th>ZTF21aaqpyfm</th>\n",
       "      <td>200</td>\n",
       "      <td>0.036500</td>\n",
       "      <td>266.210851</td>\n",
       "      <td>61.494269</td>\n",
       "      <td>[]</td>\n",
       "      <td>2021-03-24T08:30:34.631721</td>\n",
       "      <td>2021-03-30T08:55:35.002564+00:00</td>\n",
       "    </tr>\n",
       "  </tbody>\n",
       "</table>\n",
       "<p>10117 rows × 7 columns</p>\n",
       "</div>"
      ],
      "text/plain": [
       "                  index  redshift          ra        dec classification  \\\n",
       "    name                                                                  \n",
       "125 ZTF20acqzjqz      0  0.030000   43.746057   4.060219             Ia   \n",
       "    ZTF21aagbpvf      1  0.005941  207.061471  68.089712           Ib/c   \n",
       "253 ZTF18acbvgqw      0  0.008673   46.512556 -15.611485             Ia   \n",
       "    ZTF19aacgslb      1  0.004520  157.341541  29.510627             Ia   \n",
       "    ZTF19aatlmbo      2  0.007755  208.371399  40.275421             Ia   \n",
       "...                 ...       ...         ...        ...            ...   \n",
       "63  ZTF21aahdnpx    196       NaN  139.295916  20.052365             []   \n",
       "    ZTF21aahkaib    197  0.054894  133.941858   4.222989             []   \n",
       "    ZTF21aapszhp    198  0.029240  179.887464  30.146720             []   \n",
       "    ZTF21aaqafcf    199  0.043190  184.143244  60.364532             Ia   \n",
       "    ZTF21aaqpyfm    200  0.036500  266.210851  61.494269             []   \n",
       "\n",
       "                                  created_at                  last_detected_at  \n",
       "    name                                                                        \n",
       "125 ZTF20acqzjqz  2020-11-17T05:58:18.438444  2021-02-25T04:11:00.003850+00:00  \n",
       "    ZTF21aagbpvf  2021-01-18T11:18:34.032966  2021-03-18T07:48:21.003845+00:00  \n",
       "253 ZTF18acbvgqw  2020-11-05T06:57:06.837416  2020-02-02T03:38:04.001291+00:00  \n",
       "    ZTF19aacgslb  2020-11-05T03:39:15.319208  2021-02-28T08:10:58.002238+00:00  \n",
       "    ZTF19aatlmbo  2020-11-04T21:37:23.495001  2020-03-28T06:47:16.995837+00:00  \n",
       "...                                      ...                               ...  \n",
       "63  ZTF21aahdnpx  2021-02-05T08:41:16.203917  2021-02-05T08:29:18.003835+00:00  \n",
       "    ZTF21aahkaib  2021-02-06T10:48:49.021924  2021-02-06T06:28:22.002235+00:00  \n",
       "    ZTF21aapszhp  2021-03-18T08:48:12.662843  2021-03-18T08:34:04.998738+00:00  \n",
       "    ZTF21aaqafcf  2021-03-19T07:58:43.231510  2021-03-30T05:29:18.997433+00:00  \n",
       "    ZTF21aaqpyfm  2021-03-24T08:30:34.631721  2021-03-30T08:55:35.002564+00:00  \n",
       "\n",
       "[10117 rows x 7 columns]"
      ]
     },
     "execution_count": 8,
     "metadata": {},
     "output_type": "execute_result"
    }
   ],
   "source": [
    "fu_loaded.data"
   ]
  },
  {
   "cell_type": "code",
   "execution_count": 9,
   "metadata": {},
   "outputs": [
    {
     "data": {
      "text/plain": [
       "{'Rigault Research Group': 2,\n",
       " 'Calibrator SNe Ia': 15,\n",
       " 'Redshift Completeness Factor': 7840,\n",
       " 'Cosmology with Type Ia Supernovae': 2,\n",
       " 'Same host SNe': 119,\n",
       " 'SEDM Partnership-wide Group': 605,\n",
       " 'Treasures': 901,\n",
       " 'Type Ia Supernovae': 11,\n",
       " 'Weizmann_Test': 78,\n",
       " 'Infant Supernovae': 329,\n",
       " 'Physics of Transients': 14,\n",
       " 'AmpelGroup_test1': 201}"
      ]
     },
     "execution_count": 9,
     "metadata": {},
     "output_type": "execute_result"
    }
   ],
   "source": [
    "fu_loaded.get_samples_size()"
   ]
  },
  {
   "cell_type": "code",
   "execution_count": 11,
   "metadata": {},
   "outputs": [
    {
     "data": {
      "text/plain": [
       "array(['ZTF20acodpwm', 'ZTF20acohkja', 'ZTF20acodppm', 'ZTF20acodpye',\n",
       "       'ZTF20acodppq', 'ZTF20acnwgtl', 'ZTF20acoojba', 'ZTF20achshbr',\n",
       "       'ZTF20acllvho', 'ZTF20ackxrbh', 'ZTF20acpqcjc', 'ZTF20aclgnds',\n",
       "       'ZTF20aclzygx', 'ZTF20acjzipj', 'ZTF18abadmpz', 'ZTF20acmlkoc',\n",
       "       'ZTF20acnwbuo', 'ZTF20acnwdau', 'ZTF20acnvzga', 'ZTF19abwamby',\n",
       "       'ZTF20aclkyjg', 'ZTF20acnzkxb', 'ZTF20achvdtx', 'ZTF20acrdadi',\n",
       "       'ZTF20aclkyhj', 'ZTF20acjynpx', 'ZTF20acszwan', 'ZTF20acnvprg',\n",
       "       'ZTF20acpmcbw', 'ZTF20acpmcmu', 'ZTF20acpuwbf', 'ZTF20acplqrq',\n",
       "       'ZTF20acqismu', 'ZTF20aclnpgu', 'ZTF20acmgscj', 'ZTF20acqztpi',\n",
       "       'ZTF20acreckb', 'ZTF20acqwaiy', 'ZTF20acqyfie', 'ZTF20acpprmy',\n",
       "       'ZTF20acqpxdc', 'ZTF20acrtzgt', 'ZTF20acsopse', 'ZTF20acstglw',\n",
       "       'ZTF20acrvlem', 'ZTF20acqoxod', 'ZTF20acrmolb', 'ZTF20acnwjwp',\n",
       "       'ZTF20acqqmtf', 'ZTF20acuzydz', 'ZTF20ackrqfi', 'ZTF20acpjodk',\n",
       "       'ZTF20aclxbwk', 'ZTF20acprazr', 'ZTF20acuiuvw', 'ZTF20acuiuke',\n",
       "       'ZTF20acoaqpm', 'ZTF18acfhmhp', 'ZTF20acpzaoa', 'ZTF20acqldir',\n",
       "       'ZTF20ackkejs', 'ZTF20acthbdd', 'ZTF20acmydwh', 'ZTF20acnwjqa',\n",
       "       'ZTF20acusjxt', 'ZTF20acnezne', 'ZTF20acnvorm', 'ZTF20acwiojc',\n",
       "       'ZTF20acpkprl', 'ZTF20acwfcaq', 'ZTF20acpkpla', 'ZTF20acnvtxy',\n",
       "       'ZTF20acwmcys', 'ZTF20acoqlrd', 'ZTF20acqlfwb', 'ZTF20acvbrbv',\n",
       "       'ZTF20acxvcoe', 'ZTF20acxvdnd', 'ZTF20acoplqe', 'ZTF20acogybn',\n",
       "       'ZTF20actddoh', 'ZTF20acovrzx', 'ZTF20acppzah', 'ZTF20acpqbfu',\n",
       "       'ZTF20actekrw', 'ZTF20acvczmt', 'ZTF20acrjdjk', 'ZTF18aadsuxd',\n",
       "       'ZTF20acmzoxo', 'ZTF20aclnsts', 'ZTF20acounxo', 'ZTF20acouofb',\n",
       "       'ZTF20acvevsn', 'ZTF20acvbcrd', 'ZTF20acrzuko', 'ZTF20acowpur',\n",
       "       'ZTF20actfoxr', 'ZTF20acypdlh', 'ZTF20aczkvvy', 'ZTF20acwijiy',\n",
       "       'ZTF20acvsxob', 'ZTF20acurtpj', 'ZTF20acweyro', 'ZTF20acumrio',\n",
       "       'ZTF20acvbneg', 'ZTF21aacndur', 'ZTF20acrufey', 'ZTF20acrdemq',\n",
       "       'ZTF20ackitai', 'ZTF20acpjcoe', 'ZTF21aaazjia', 'ZTF20acwcfvx',\n",
       "       'ZTF21aabfson', 'ZTF20acueziy', 'ZTF20actpbck', 'ZTF21aaarlbp',\n",
       "       'ZTF21aaaiafo', 'ZTF20acwncbd', 'ZTF21aacngjg', 'ZTF20actocyw',\n",
       "       'ZTF20acmaaan', 'ZTF20acxnafa', 'ZTF21aadloxe', 'ZTF21aabavaz',\n",
       "       'ZTF20acpkefi', 'ZTF20acqzpta', 'ZTF21aabyifm', 'ZTF20acwnqcy',\n",
       "       'ZTF21aaaadmo', 'ZTF20acuozua', 'ZTF20acjyyco', 'ZTF20acrudzk',\n",
       "       'ZTF20acpujxl', 'ZTF20acxqnhn', 'ZTF20acphjgz', 'ZTF20actfeym',\n",
       "       'ZTF20acprmuv', 'ZTF20acxnxbh', 'ZTF20acutkgr', 'ZTF21aaaoviv',\n",
       "       'ZTF21aaabwem', 'ZTF20actkulc', 'ZTF20acklcyp', 'ZTF20actqnhg',\n",
       "       'ZTF20acpevli', 'ZTF20acytfkf', 'ZTF21aadalct', 'ZTF21aaevrjl',\n",
       "       'ZTF21aalnyny', 'ZTF20acusneh', 'ZTF20acqksdi', 'ZTF20acrbpqd',\n",
       "       'ZTF21aacufqf', 'ZTF20acxvvnf', 'ZTF20acyvzbr', 'ZTF20adadshh',\n",
       "       'ZTF20acqgklx', 'ZTF21aaphvyi', 'ZTF20acucbek', 'ZTF21aaluqkp',\n",
       "       'ZTF21aaahuox', 'ZTF20acqzjqz', 'ZTF21aacxung', 'ZTF21aaaosoq',\n",
       "       'ZTF21aacscvb', 'ZTF20acwobku', 'ZTF21aafkwtk', 'ZTF21aamiukc',\n",
       "       'ZTF20actnuls', 'ZTF21aakilyd', 'ZTF21aamuniy', 'ZTF21aabpszb',\n",
       "       'ZTF20acytgxf', 'ZTF21aagolqa', 'ZTF21aaiaeri', 'ZTF21aanehlz',\n",
       "       'ZTF21aamxdns', 'ZTF20acviwgj', 'ZTF20acvjagm', 'ZTF20acrinvz',\n",
       "       'ZTF20aclvtnk', 'ZTF21aanzcuj', 'ZTF21aafgljq', 'ZTF20actkmks',\n",
       "       'ZTF20acveadu', 'ZTF18abgqvwv', 'ZTF21aabygea', 'ZTF21aadkhte',\n",
       "       'ZTF21aaphzsw', 'ZTF21aapqzxr', 'ZTF21aaprgdh', 'ZTF21aapliyn',\n",
       "       'ZTF21aapfmut', 'ZTF21aakupth', 'ZTF21aankmzt', 'ZTF21aaabtyq',\n",
       "       'ZTF21aapejbx', 'ZTF20acrzwvx', 'ZTF20aclvvws', 'ZTF20acwgxhk',\n",
       "       'ZTF21aaqgedd', 'ZTF21aaampui', 'ZTF21aafepon', 'ZTF20acvjlev',\n",
       "       'ZTF20acqqdkl', 'ZTF21aapzzgf', 'ZTF21aaqafcf', 'ZTF21aapjmda',\n",
       "       'ZTF20acwfftd', 'ZTF21aannoix', 'ZTF21aalydkl', 'ZTF20aciwcuz',\n",
       "       'ZTF20acyybvq', 'ZTF21aanwfjk', 'ZTF20actawpa', 'ZTF21aamttit',\n",
       "       'ZTF21aahhars', 'ZTF20adadrhw', 'ZTF20acqntkr', 'ZTF20acugxbm',\n",
       "       'ZTF20acyyavb', 'ZTF21aapfowm', 'ZTF21aaqhhfu', 'ZTF21aaodljj',\n",
       "       'ZTF21aaipypa', 'ZTF21aaeoqxf', 'ZTF20acyqzeu', 'ZTF21aanvncv',\n",
       "       'ZTF21aaqgmjt', 'ZTF21aaplnef', 'ZTF21aadoizf', 'ZTF20acusylb',\n",
       "       'ZTF20adadlqv', 'ZTF20acxzqyp', 'ZTF21aaphpor', 'ZTF21aantxma',\n",
       "       'ZTF21aakijia', 'ZTF21aaiaqhh'], dtype='<U12')"
      ]
     },
     "execution_count": 11,
     "metadata": {},
     "output_type": "execute_result"
    }
   ],
   "source": [
    "fu_loaded.get_sample_overlap(\"Redshift Completeness Factor\", \"Infant Supernovae\")"
   ]
  },
  {
   "cell_type": "code",
   "execution_count": null,
   "metadata": {},
   "outputs": [],
   "source": []
  }
 ],
 "metadata": {
  "kernelspec": {
   "display_name": "Python 3",
   "language": "python",
   "name": "python3"
  },
  "language_info": {
   "codemirror_mode": {
    "name": "ipython",
    "version": 3
   },
   "file_extension": ".py",
   "mimetype": "text/x-python",
   "name": "python",
   "nbconvert_exporter": "python",
   "pygments_lexer": "ipython3",
   "version": "3.8.5"
  }
 },
 "nbformat": 4,
 "nbformat_minor": 4
}
