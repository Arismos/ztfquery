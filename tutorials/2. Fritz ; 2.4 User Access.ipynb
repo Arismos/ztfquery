{
 "cells": [
  {
   "cell_type": "markdown",
   "metadata": {},
   "source": [
    "***\n",
    "# from ztfquery import fritz\n",
    "***\n",
    "\n",
    "### ztfquery.query enables you to get information from the ZTF-II \"fritz marshal\". \n",
    "It corresponds to alert and assocated informations.\n",
    "\n",
    "ztfquery.fritz basically is a python wrapper of the fritz version of the skyportal web API (https://docs.fritz.science/api.html)\n",
    "\n",
    "**Note**: you will need a token from you fritz account (https://fritz.science/profile)\n",
    "\n",
    "\n",
    "**This tutorial will focus on Sample access and user accounts **, \n",
    "\n",
    "\n",
    "- see Fritz 2.1 for individual target data (lightcurve, alerts, spectra, source information)\n",
    "- see Fritz 2.2 for storing and retrieving data.\n",
    "- see Fritz 2.3 for Sample (source collection)\n",
    "\n"
   ]
  },
  {
   "cell_type": "markdown",
   "metadata": {},
   "source": [
    "***\n",
    "# Step 0: imports"
   ]
  },
  {
   "cell_type": "code",
   "execution_count": 1,
   "metadata": {},
   "outputs": [],
   "source": [
    "%matplotlib notebook\n",
    "import numpy as np\n",
    "from ztfquery import fritz"
   ]
  },
  {
   "cell_type": "code",
   "execution_count": 2,
   "metadata": {},
   "outputs": [],
   "source": [
    "import pandas"
   ]
  },
  {
   "cell_type": "markdown",
   "metadata": {},
   "source": [
    "***\n",
    "# FritzAccess\n",
    "\n",
    "\n",
    "Fritz Access is the highest level method built upon the `FritzSample`s. A user has access to several samples and FritzAccess enables to do so in a convenient way.\n",
    "\n",
    "When you instanciate a `FritzAccess`, it automatically loads a FritzGroup instance as `self.groups` that are then used notably to know the group (ie. samples) you have access to."
   ]
  },
  {
   "cell_type": "code",
   "execution_count": 3,
   "metadata": {},
   "outputs": [],
   "source": [
    "fu = fritz.FritzAccess()"
   ]
  },
  {
   "cell_type": "code",
   "execution_count": 4,
   "metadata": {},
   "outputs": [
    {
     "data": {
      "text/plain": [
       "<ztfquery.fritz.FritzGroups at 0x7fbeaac844c0>"
      ]
     },
     "execution_count": 4,
     "metadata": {},
     "output_type": "execute_result"
    }
   ],
   "source": [
    "fu.groups"
   ]
  },
  {
   "cell_type": "markdown",
   "metadata": {},
   "source": [
    "To check the group you have access to"
   ]
  },
  {
   "cell_type": "code",
   "execution_count": 5,
   "metadata": {},
   "outputs": [
    {
     "data": {
      "text/plain": [
       "array(['AmpelGroup_test1', 'Calibrator SNe Ia',\n",
       "       'Cosmology with Type Ia Supernovae', 'Infant Supernovae',\n",
       "       'Nuclear Transients', 'Physics of Transients',\n",
       "       'RCF Junk and Variables', 'Redshift Completeness Factor',\n",
       "       'Rigault Research Group', 'Same host SNe',\n",
       "       'SEDM Partnership-wide Group', 'Sitewide Group', 'Treasures',\n",
       "       'Type Ia Supernovae', 'Weizmann_Test'], dtype=object)"
      ]
     },
     "execution_count": 5,
     "metadata": {},
     "output_type": "execute_result"
    }
   ],
   "source": [
    "groupid = fu.get_mygroups()\n",
    "groupid"
   ]
  },
  {
   "cell_type": "code",
   "execution_count": 6,
   "metadata": {},
   "outputs": [
    {
     "data": {
      "text/plain": [
       "array([ 63, 253,  55,  49,  80,  88, 255,  41, 125, 251, 209,   1, 215,\n",
       "       177,  65])"
      ]
     },
     "execution_count": 6,
     "metadata": {},
     "output_type": "execute_result"
    }
   ],
   "source": [
    "groupid = fu.get_mygroups(\"id\")\n",
    "groupid"
   ]
  },
  {
   "cell_type": "markdown",
   "metadata": {},
   "source": [
    "### loading the samples\n",
    "You can then load the samples (all or a sublist) you have access to. This will call each individual `FritzSample.from_group()` with `load_sources=False` (see load sources later on)"
   ]
  },
  {
   "cell_type": "code",
   "execution_count": 7,
   "metadata": {},
   "outputs": [
    {
     "name": "stdout",
     "output_type": "stream",
     "text": [
      "CPU times: user 639 ms, sys: 98.5 ms, total: 737 ms\n",
      "Wall time: 9.9 s\n"
     ]
    }
   ],
   "source": [
    "%time fu.load_samples()"
   ]
  },
  {
   "cell_type": "code",
   "execution_count": 8,
   "metadata": {},
   "outputs": [
    {
     "data": {
      "text/plain": [
       "{'AmpelGroup_test1': 201,\n",
       " 'Calibrator SNe Ia': 15,\n",
       " 'Cosmology with Type Ia Supernovae': 2,\n",
       " 'Infant Supernovae': 329,\n",
       " 'Nuclear Transients': 7463,\n",
       " 'Physics of Transients': 14,\n",
       " 'RCF Junk and Variables': 866,\n",
       " 'Redshift Completeness Factor': 7840,\n",
       " 'Rigault Research Group': 2,\n",
       " 'Same host SNe': 119,\n",
       " 'SEDM Partnership-wide Group': 605,\n",
       " 'Sitewide Group': 287,\n",
       " 'Treasures': 901,\n",
       " 'Type Ia Supernovae': 11,\n",
       " 'Weizmann_Test': 78}"
      ]
     },
     "execution_count": 8,
     "metadata": {},
     "output_type": "execute_result"
    }
   ],
   "source": [
    "fu.get_samples_size()"
   ]
  },
  {
   "cell_type": "markdown",
   "metadata": {},
   "source": [
    "To get an individual group, use the `get_sample()` method where you could give the name, id or nickname of the sample"
   ]
  },
  {
   "cell_type": "code",
   "execution_count": 9,
   "metadata": {},
   "outputs": [],
   "source": [
    "rcf = fu.get_sample(\"Redshift Completeness Factor\") "
   ]
  },
  {
   "cell_type": "code",
   "execution_count": 10,
   "metadata": {},
   "outputs": [],
   "source": [
    "rcf2 = fu.get_sample(\"rcf\") "
   ]
  },
  {
   "cell_type": "code",
   "execution_count": 11,
   "metadata": {},
   "outputs": [
    {
     "data": {
      "text/plain": [
       "'Redshift Completeness Factor'"
      ]
     },
     "execution_count": 11,
     "metadata": {},
     "output_type": "execute_result"
    }
   ],
   "source": [
    "rcf2.groupname"
   ]
  },
  {
   "cell_type": "code",
   "execution_count": 12,
   "metadata": {},
   "outputs": [],
   "source": [
    "nuclear = fu.get_sample(\"Nuclear Transients\")"
   ]
  },
  {
   "cell_type": "markdown",
   "metadata": {},
   "source": [
    "You can then get the names that are in both"
   ]
  },
  {
   "cell_type": "code",
   "execution_count": 16,
   "metadata": {},
   "outputs": [
    {
     "data": {
      "text/plain": [
       "array(['ZTF20accodxy', 'ZTF18abuegjm', 'ZTF18ablwhde', 'ZTF20abgbwbe',\n",
       "       'ZTF20ackdkva', 'ZTF20acoalxr', 'ZTF20abxvcrk', 'ZTF18acswirx',\n",
       "       'ZTF20acjpwas', 'ZTF17aaburzk', 'ZTF20acotwur', 'ZTF20achwpvs',\n",
       "       'ZTF19aazlpqy', 'ZTF18absiejw', 'ZTF18ablrlbm', 'ZTF20acvbaax',\n",
       "       'ZTF20acjutba', 'ZTF19abegzry', 'ZTF20achtisx', 'ZTF18abxzitr',\n",
       "       'ZTF18aakgzwi', 'ZTF20acnwdau', 'ZTF20acivqxo', 'ZTF20aaetsrw',\n",
       "       'ZTF20aclmssm', 'ZTF20acjynpx', 'ZTF18abvklbt', 'ZTF20acgprxo',\n",
       "       'ZTF20acgremo', 'ZTF20acbeanu', 'ZTF18aayltmt', 'ZTF20acbttnt',\n",
       "       'ZTF19acgkead', 'ZTF20acnvprg', 'ZTF20acowsyj', 'ZTF18abehrdw',\n",
       "       'ZTF20acpmcmu', 'ZTF20acqjmzk', 'ZTF20acplqrq', 'ZTF20actlsch',\n",
       "       'ZTF20acgkbkm', 'ZTF20acqwbbb', 'ZTF20acqwcoi', 'ZTF20actnran',\n",
       "       'ZTF18abxhsyn', 'ZTF20actkuxm', 'ZTF20acqyfie', 'ZTF20abvquuo',\n",
       "       'ZTF19abwtgqb', 'ZTF18abotthj', 'ZTF20actdhix', 'ZTF18aabtxvd',\n",
       "       'ZTF19aapreis', 'ZTF20abjwvae', 'ZTF20abcxmwf', 'ZTF20acpjino',\n",
       "       'ZTF20acpwxbg', 'ZTF20aclnplo', 'ZTF20acppruo', 'ZTF20acoxmsr',\n",
       "       'ZTF20acpklpq', 'ZTF20aceoadf', 'ZTF20ackhzba', 'ZTF20acitpfz',\n",
       "       'ZTF19abjmnlw', 'ZTF18aaakpoh', 'ZTF20acsfciw', 'ZTF20acutyac',\n",
       "       'ZTF18aajswer', 'ZTF20acuofwe', 'ZTF20acggvnn', 'ZTF20acjlkpe',\n",
       "       'ZTF18abxyutn', 'ZTF20acppsay', 'ZTF20acqqiao', 'ZTF20abxclnl',\n",
       "       'ZTF18abzrsuh', 'ZTF19abwsfsl', 'ZTF20acpgokr', 'ZTF20acobevy',\n",
       "       'ZTF20acwphph', 'ZTF20aaurfwa', 'ZTF20actvffz', 'ZTF20actvgsy',\n",
       "       'ZTF20actrbvz', 'ZTF20acounqo', 'ZTF18abrfccm', 'ZTF19aawlgne',\n",
       "       'ZTF20achmjjk', 'ZTF20acgokbj', 'ZTF20acufbmq', 'ZTF20acqpzbo',\n",
       "       'ZTF20aafxzej', 'ZTF20aanmyts', 'ZTF20abrnwfc', 'ZTF19abcsyho',\n",
       "       'ZTF19aaweqnm', 'ZTF20acuiktl', 'ZTF20acppzah', 'ZTF20acywbdi',\n",
       "       'ZTF20aabcemq', 'ZTF18acealtv', 'ZTF20abxyayj', 'ZTF20acpvxmk',\n",
       "       'ZTF18acnnrar', 'ZTF19abfjjbi', 'ZTF20acyxzzf', 'ZTF18accnlhl',\n",
       "       'ZTF18aadsuxd', 'ZTF20acvkwkt', 'ZTF18abolvzu', 'ZTF20acpksoc',\n",
       "       'ZTF20acufkdp', 'ZTF19acwiqrc', 'ZTF20acungqk', 'ZTF20acxbbru',\n",
       "       'ZTF20acuqyea', 'ZTF19aarioci', 'ZTF20actoabw', 'ZTF20acwyoqx',\n",
       "       'ZTF20acggqsg', 'ZTF20actlvpy', 'ZTF20acrheie', 'ZTF20acvivzp',\n",
       "       'ZTF19aarmtgu', 'ZTF18acrxnfr', 'ZTF17aaazdba', 'ZTF18aaakpbx',\n",
       "       'ZTF19aarsrls', 'ZTF20acwphzx', 'ZTF18absrlhv', 'ZTF20acwztut',\n",
       "       'ZTF20actpatx', 'ZTF20acumcrz', 'ZTF21aaavghg', 'ZTF20acgrvkt',\n",
       "       'ZTF20ackitai', 'ZTF21aaagmlj', 'ZTF18abzylls', 'ZTF20acpjcoe',\n",
       "       'ZTF19aawscqd', 'ZTF18abxdqxa', 'ZTF20acpeldz', 'ZTF20acifwef',\n",
       "       'ZTF20acpgolz', 'ZTF21aaabvzf', 'ZTF20acujaft', 'ZTF20adaenal',\n",
       "       'ZTF20acvfraq', 'ZTF20acasmjl', 'ZTF21aaelbdm', 'ZTF18aabgroi',\n",
       "       'ZTF21aacudxe', 'ZTF20acbcfaa', 'ZTF19abclykm', 'ZTF19aaqhmju',\n",
       "       'ZTF20acxnjat', 'ZTF21aaapesv', 'ZTF18aceaape', 'ZTF20acvcxkz',\n",
       "       'ZTF20aaggyef', 'ZTF19aafcgif', 'ZTF19aaczyek', 'ZTF20acqoiyt',\n",
       "       'ZTF18abxwiqz', 'ZTF20acurrzb', 'ZTF21aadrlji', 'ZTF21aadrmok',\n",
       "       'ZTF21aadktwq', 'ZTF20abgxlut', 'ZTF19aaingkb', 'ZTF18abzsimu',\n",
       "       'ZTF18abnuhuy', 'ZTF18abtrowl', 'ZTF18aaqxbvf', 'ZTF18abxrngw',\n",
       "       'ZTF18abtnfmp', 'ZTF20acqzpta', 'ZTF20actoakx', 'ZTF18acxcokz',\n",
       "       'ZTF21aaafgmv', 'ZTF20acxmxth', 'ZTF21aaabvoj', 'ZTF18acbweyd',\n",
       "       'ZTF20abzoaas', 'ZTF19absxwow', 'ZTF20actvpyc', 'ZTF21aaaekui',\n",
       "       'ZTF20abowque', 'ZTF21aacugzd', 'ZTF20adagnfh', 'ZTF21aadatfg',\n",
       "       'ZTF20acqnher', 'ZTF21aagmhzg', 'ZTF19aabyoce', 'ZTF21aagnwkk',\n",
       "       'ZTF18accxhhd', 'ZTF21aagkswj', 'ZTF18acvvudh', 'ZTF18acwwkyl',\n",
       "       'ZTF21aagxvul', 'ZTF21aagshha', 'ZTF20adafguh', 'ZTF21aafmltt',\n",
       "       'ZTF19adaiyql', 'ZTF21aadsoer', 'ZTF19aatubsj', 'ZTF20acklcyp',\n",
       "       'ZTF18acayrgz', 'ZTF20acxyury', 'ZTF19aafltef', 'ZTF21aaaokyp',\n",
       "       'ZTF21aadrtqz', 'ZTF21aaixlfe', 'ZTF21aaflcbk', 'ZTF18abrzevn',\n",
       "       'ZTF18abrbywo', 'ZTF21aaevrjl', 'ZTF18acewwqf', 'ZTF19aacipwt',\n",
       "       'ZTF19abhelmm', 'ZTF18abvnsmh', 'ZTF20aastgns', 'ZTF21aalimtr',\n",
       "       'ZTF20acqexmr', 'ZTF21aaekmoy', 'ZTF18aaqiivp', 'ZTF21aagtcsj',\n",
       "       'ZTF19aaefsad', 'ZTF19aaipqls', 'ZTF20actqtfk', 'ZTF19abxvmid',\n",
       "       'ZTF21aaafzwx', 'ZTF20aasuiks', 'ZTF20abfcszi', 'ZTF18abnnnzk',\n",
       "       'ZTF18acbyeid', 'ZTF18aahfbqp', 'ZTF21aaixibu', 'ZTF21aaikpnj',\n",
       "       'ZTF18aadlaxo', 'ZTF18ablvxdg', 'ZTF21aahnqnn', 'ZTF18abtoued',\n",
       "       'ZTF20acrjjse', 'ZTF18aaviokz', 'ZTF18aawznqy', 'ZTF21aadrtcs',\n",
       "       'ZTF21aahptas', 'ZTF21aaaytny', 'ZTF20aarvpbq', 'ZTF19aagzanb',\n",
       "       'ZTF20aanlygx', 'ZTF21aajyufk', 'ZTF21aakbgpf', 'ZTF20acpvbbh',\n",
       "       'ZTF21aahqahr', 'ZTF21aaasxel', 'ZTF20acxfcmr', 'ZTF21aahargb',\n",
       "       'ZTF21aahdpqu', 'ZTF21aaaiakl', 'ZTF21aaglrzc', 'ZTF18aakbuks',\n",
       "       'ZTF19aaapnrt', 'ZTF21aaaytyv', 'ZTF21aaflcai', 'ZTF20acqikeh',\n",
       "       'ZTF18accdrut', 'ZTF19acbchel', 'ZTF19acekltt', 'ZTF19aabyxhe',\n",
       "       'ZTF21aahzspd', 'ZTF18aceijsp', 'ZTF18aaojsvk', 'ZTF21aagycrc',\n",
       "       'ZTF18abcbwnd', 'ZTF19aalxsfe', 'ZTF20actkjaa', 'ZTF21aahaksd',\n",
       "       'ZTF18aacdvmi', 'ZTF21aamnnjb', 'ZTF21aagkxnb', 'ZTF19aacomym',\n",
       "       'ZTF18aboerpp', 'ZTF18aaakpsa', 'ZTF19aaiqmgl', 'ZTF18abwcgrm',\n",
       "       'ZTF20aayvuwu', 'ZTF20acvamwo', 'ZTF18aavtklk', 'ZTF21aakygxl',\n",
       "       'ZTF19aaippyv', 'ZTF21aamkxbl', 'ZTF21aagxmcs', 'ZTF20ackijbs',\n",
       "       'ZTF21aadkgpm', 'ZTF18aajawol', 'ZTF18abxhyqv', 'ZTF18abtgnxs',\n",
       "       'ZTF18aajnqmp', 'ZTF18aarrwmi', 'ZTF19aanfrmq', 'ZTF21aahfjlo',\n",
       "       'ZTF20acpguww', 'ZTF18acnmoiy', 'ZTF20acodsyb', 'ZTF20abnorit',\n",
       "       'ZTF20acywbes', 'ZTF19aaktorq', 'ZTF20aatxryt', 'ZTF21aapfmut',\n",
       "       'ZTF21aajtsba', 'ZTF21aaphjyn', 'ZTF21aanuyro', 'ZTF18aahfohe',\n",
       "       'ZTF21aajuerd', 'ZTF21aagtexi', 'ZTF21aagsihi', 'ZTF19acnskyy',\n",
       "       'ZTF21aagskhr', 'ZTF21aahfjbs', 'ZTF21aafdvxz', 'ZTF18aavdwmh',\n",
       "       'ZTF18abjdnoh', 'ZTF19aaylipu', 'ZTF21aaptnwj', 'ZTF19aarpymc',\n",
       "       'ZTF18abbhlxk', 'ZTF21aapvxnf', 'ZTF20aasivtu', 'ZTF21aaoqayg',\n",
       "       'ZTF20acwytxn', 'ZTF20aaspiic', 'ZTF18ablwvcy', 'ZTF20acrzwvx',\n",
       "       'ZTF21aapnydy', 'ZTF21aaasirb', 'ZTF18aaaniwu', 'ZTF21aamxduf',\n",
       "       'ZTF18acxcttu', 'ZTF21aagrzqz', 'ZTF18aalsiji', 'ZTF17aaapufz',\n",
       "       'ZTF21aaopqqk', 'ZTF18aauhley', 'ZTF20acnznms', 'ZTF21aaqftpz',\n",
       "       'ZTF19aailpwl', 'ZTF18adachkc', 'ZTF18aagteoy', 'ZTF21aaqgrrf',\n",
       "       'ZTF19ablpwta', 'ZTF18acwwljq', 'ZTF18acpdwoa', 'ZTF18acwugwx',\n",
       "       'ZTF21aaoghxv', 'ZTF18aarbgrh', 'ZTF20accxwro', 'ZTF19acccyyt',\n",
       "       'ZTF18adbacqi', 'ZTF19aanbpus', 'ZTF20acoqlav', 'ZTF18aasszwr',\n",
       "       'ZTF18acvhqfj', 'ZTF21aamwzfi', 'ZTF18abmjija', 'ZTF18acjxyak',\n",
       "       'ZTF18abcohew', 'ZTF21aaqndlk', 'ZTF18aaqlblz', 'ZTF19aatjfny',\n",
       "       'ZTF21aaipypa', 'ZTF20achpcvt', 'ZTF18aazndjw', 'ZTF19abyjmei',\n",
       "       'ZTF19aayvyfa', 'ZTF21aaqhqke', 'ZTF21aanxhjv', 'ZTF18acufhuz',\n",
       "       'ZTF21aaoexjt', 'ZTF21aaovhxe', 'ZTF21aapkvrd', 'ZTF20abisysx',\n",
       "       'ZTF20abobpcb', 'ZTF18absltuj', 'ZTF21aappehx', 'ZTF19aademoc'],\n",
       "      dtype='<U12')"
      ]
     },
     "execution_count": 16,
     "metadata": {},
     "output_type": "execute_result"
    }
   ],
   "source": [
    "fu.get_sample_overlap(\"Redshift Completeness Factor\", \"Nuclear Transients\")"
   ]
  },
  {
   "cell_type": "markdown",
   "metadata": {},
   "source": [
    "So you see we have many many sources, maybe we don't need all the samples. \n",
    "\n",
    "For instance, let's you don't need   `RCF Junk and Variables`, `Nuclear Transients` and `Sitewide Group` are not needed."
   ]
  },
  {
   "cell_type": "code",
   "execution_count": 4,
   "metadata": {},
   "outputs": [],
   "source": [
    "fu = fritz.FritzAccess()"
   ]
  },
  {
   "cell_type": "code",
   "execution_count": 5,
   "metadata": {},
   "outputs": [
    {
     "name": "stdout",
     "output_type": "stream",
     "text": [
      "CPU times: user 403 ms, sys: 49.4 ms, total: 453 ms\n",
      "Wall time: 5.47 s\n"
     ]
    }
   ],
   "source": [
    "%time fu.load_samples(ignorenames_or_id=[\"RCF Junk and Variables\",\"Nuclear Transients\",\"Sitewide Group\"])"
   ]
  },
  {
   "cell_type": "code",
   "execution_count": 6,
   "metadata": {},
   "outputs": [
    {
     "data": {
      "text/plain": [
       "{'AmpelGroup_test1': 201,\n",
       " 'Calibrator SNe Ia': 15,\n",
       " 'Cosmology with Type Ia Supernovae': 2,\n",
       " 'Infant Supernovae': 329,\n",
       " 'Physics of Transients': 14,\n",
       " 'Redshift Completeness Factor': 7840,\n",
       " 'Rigault Research Group': 2,\n",
       " 'Same host SNe': 119,\n",
       " 'SEDM Partnership-wide Group': 605,\n",
       " 'Treasures': 901,\n",
       " 'Type Ia Supernovae': 11,\n",
       " 'Weizmann_Test': 78}"
      ]
     },
     "execution_count": 6,
     "metadata": {},
     "output_type": "execute_result"
    }
   ],
   "source": [
    "fu.get_samples_size()"
   ]
  },
  {
   "cell_type": "code",
   "execution_count": 7,
   "metadata": {},
   "outputs": [
    {
     "data": {
      "text/html": [
       "<table style=\"border: 2px solid white;\">\n",
       "<tr>\n",
       "<td style=\"vertical-align: top; border: 0px solid white\">\n",
       "<h3 style=\"text-align: left;\">Client</h3>\n",
       "<ul style=\"text-align: left; list-style: none; margin: 0; padding: 0;\">\n",
       "  <li><b>Scheduler: </b>tcp://127.0.0.1:64497</li>\n",
       "  <li><b>Dashboard: </b><a href='http://127.0.0.1:8787/status' target='_blank'>http://127.0.0.1:8787/status</a></li>\n",
       "</ul>\n",
       "</td>\n",
       "<td style=\"vertical-align: top; border: 0px solid white\">\n",
       "<h3 style=\"text-align: left;\">Cluster</h3>\n",
       "<ul style=\"text-align: left; list-style:none; margin: 0; padding: 0;\">\n",
       "  <li><b>Workers: </b>4</li>\n",
       "  <li><b>Cores: </b>4</li>\n",
       "  <li><b>Memory: </b>17.18 GB</li>\n",
       "</ul>\n",
       "</td>\n",
       "</tr>\n",
       "</table>"
      ],
      "text/plain": [
       "<Client: 'tcp://127.0.0.1:64497' processes=4 threads=4, memory=17.18 GB>"
      ]
     },
     "execution_count": 7,
     "metadata": {},
     "output_type": "execute_result"
    }
   ],
   "source": [
    "from dask.distributed import Client\n",
    "\n",
    "#client = Client(n_workers=16)\n",
    "client = Client() # faster I think\n",
    "client"
   ]
  },
  {
   "cell_type": "code",
   "execution_count": 11,
   "metadata": {},
   "outputs": [
    {
     "data": {
      "text/plain": [
       "8825"
      ]
     },
     "execution_count": 11,
     "metadata": {},
     "output_type": "execute_result"
    }
   ],
   "source": [
    "len(fu.names)"
   ]
  },
  {
   "cell_type": "code",
   "execution_count": 10,
   "metadata": {},
   "outputs": [
    {
     "data": {
      "text/html": [
       "<div>\n",
       "<style scoped>\n",
       "    .dataframe tbody tr th:only-of-type {\n",
       "        vertical-align: middle;\n",
       "    }\n",
       "\n",
       "    .dataframe tbody tr th {\n",
       "        vertical-align: top;\n",
       "    }\n",
       "\n",
       "    .dataframe thead th {\n",
       "        text-align: right;\n",
       "    }\n",
       "</style>\n",
       "<table border=\"1\" class=\"dataframe\">\n",
       "  <thead>\n",
       "    <tr style=\"text-align: right;\">\n",
       "      <th></th>\n",
       "      <th></th>\n",
       "      <th>redshift</th>\n",
       "      <th>ra</th>\n",
       "      <th>dec</th>\n",
       "      <th>classification</th>\n",
       "      <th>created_at</th>\n",
       "      <th>last_detected_at</th>\n",
       "    </tr>\n",
       "    <tr>\n",
       "      <th></th>\n",
       "      <th>name</th>\n",
       "      <th></th>\n",
       "      <th></th>\n",
       "      <th></th>\n",
       "      <th></th>\n",
       "      <th></th>\n",
       "      <th></th>\n",
       "    </tr>\n",
       "  </thead>\n",
       "  <tbody>\n",
       "    <tr>\n",
       "      <th rowspan=\"5\" valign=\"top\">63</th>\n",
       "      <th>ZTF18aaaatgm</th>\n",
       "      <td>NaN</td>\n",
       "      <td>69.648790</td>\n",
       "      <td>58.604589</td>\n",
       "      <td>[]</td>\n",
       "      <td>2020-11-02T07:58:16.178017</td>\n",
       "      <td>2021-01-02T06:49:43.003212+00:00</td>\n",
       "    </tr>\n",
       "    <tr>\n",
       "      <th>ZTF18aaaaudk</th>\n",
       "      <td>NaN</td>\n",
       "      <td>62.403965</td>\n",
       "      <td>33.493642</td>\n",
       "      <td>[]</td>\n",
       "      <td>2020-11-04T09:51:20.341123</td>\n",
       "      <td>2021-03-21T04:27:12.003848+00:00</td>\n",
       "    </tr>\n",
       "    <tr>\n",
       "      <th>ZTF18aaabiea</th>\n",
       "      <td>NaN</td>\n",
       "      <td>114.825156</td>\n",
       "      <td>1.617942</td>\n",
       "      <td>AGN</td>\n",
       "      <td>2020-11-12T13:05:36.975570</td>\n",
       "      <td>2021-03-30T04:38:31.997746+00:00</td>\n",
       "    </tr>\n",
       "    <tr>\n",
       "      <th>ZTF18aaabsao</th>\n",
       "      <td>NaN</td>\n",
       "      <td>123.349973</td>\n",
       "      <td>54.376934</td>\n",
       "      <td>AGN</td>\n",
       "      <td>2020-11-11T14:12:59.304524</td>\n",
       "      <td>2020-12-21T10:52:58.995860+00:00</td>\n",
       "    </tr>\n",
       "    <tr>\n",
       "      <th>ZTF18aacnlxz</th>\n",
       "      <td>0.072500</td>\n",
       "      <td>134.954557</td>\n",
       "      <td>38.109086</td>\n",
       "      <td>Type II</td>\n",
       "      <td>2020-11-22T12:27:04.889881</td>\n",
       "      <td>2020-12-21T10:10:24.000947+00:00</td>\n",
       "    </tr>\n",
       "    <tr>\n",
       "      <th>...</th>\n",
       "      <th>...</th>\n",
       "      <td>...</td>\n",
       "      <td>...</td>\n",
       "      <td>...</td>\n",
       "      <td>...</td>\n",
       "      <td>...</td>\n",
       "      <td>...</td>\n",
       "    </tr>\n",
       "    <tr>\n",
       "      <th rowspan=\"5\" valign=\"top\">65</th>\n",
       "      <th>ZTF21aaahuox</th>\n",
       "      <td>0.073780</td>\n",
       "      <td>182.908229</td>\n",
       "      <td>12.163012</td>\n",
       "      <td>Ia</td>\n",
       "      <td>2021-01-02T12:08:10.560114</td>\n",
       "      <td>2021-02-19T08:57:00.996465+00:00</td>\n",
       "    </tr>\n",
       "    <tr>\n",
       "      <th>ZTF21aakupth</th>\n",
       "      <td>0.023483</td>\n",
       "      <td>196.596787</td>\n",
       "      <td>29.657811</td>\n",
       "      <td>[]</td>\n",
       "      <td>2021-02-13T08:38:18.383797</td>\n",
       "      <td>2021-03-30T08:05:45.000958+00:00</td>\n",
       "    </tr>\n",
       "    <tr>\n",
       "      <th>ZTF21aamiukc</th>\n",
       "      <td>0.078000</td>\n",
       "      <td>132.912938</td>\n",
       "      <td>23.935921</td>\n",
       "      <td>Ia</td>\n",
       "      <td>2021-02-21T06:20:06.238316</td>\n",
       "      <td>2021-03-30T07:47:53.001583+00:00</td>\n",
       "    </tr>\n",
       "    <tr>\n",
       "      <th>ZTF21aapzzgf</th>\n",
       "      <td>0.069390</td>\n",
       "      <td>164.480671</td>\n",
       "      <td>-13.790984</td>\n",
       "      <td>[]</td>\n",
       "      <td>2021-03-20T11:19:31.000619</td>\n",
       "      <td>2021-03-28T08:11:49.004174+00:00</td>\n",
       "    </tr>\n",
       "    <tr>\n",
       "      <th>ZTF21aaqugxm</th>\n",
       "      <td>0.018590</td>\n",
       "      <td>173.690568</td>\n",
       "      <td>42.965365</td>\n",
       "      <td>[]</td>\n",
       "      <td>2021-03-27T07:58:44.552171</td>\n",
       "      <td>2021-03-30T08:41:01.999695+00:00</td>\n",
       "    </tr>\n",
       "  </tbody>\n",
       "</table>\n",
       "<p>10117 rows × 6 columns</p>\n",
       "</div>"
      ],
      "text/plain": [
       "                 redshift          ra        dec classification  \\\n",
       "   name                                                           \n",
       "63 ZTF18aaaatgm       NaN   69.648790  58.604589             []   \n",
       "   ZTF18aaaaudk       NaN   62.403965  33.493642             []   \n",
       "   ZTF18aaabiea       NaN  114.825156   1.617942            AGN   \n",
       "   ZTF18aaabsao       NaN  123.349973  54.376934            AGN   \n",
       "   ZTF18aacnlxz  0.072500  134.954557  38.109086        Type II   \n",
       "...                   ...         ...        ...            ...   \n",
       "65 ZTF21aaahuox  0.073780  182.908229  12.163012             Ia   \n",
       "   ZTF21aakupth  0.023483  196.596787  29.657811             []   \n",
       "   ZTF21aamiukc  0.078000  132.912938  23.935921             Ia   \n",
       "   ZTF21aapzzgf  0.069390  164.480671 -13.790984             []   \n",
       "   ZTF21aaqugxm  0.018590  173.690568  42.965365             []   \n",
       "\n",
       "                                 created_at                  last_detected_at  \n",
       "   name                                                                        \n",
       "63 ZTF18aaaatgm  2020-11-02T07:58:16.178017  2021-01-02T06:49:43.003212+00:00  \n",
       "   ZTF18aaaaudk  2020-11-04T09:51:20.341123  2021-03-21T04:27:12.003848+00:00  \n",
       "   ZTF18aaabiea  2020-11-12T13:05:36.975570  2021-03-30T04:38:31.997746+00:00  \n",
       "   ZTF18aaabsao  2020-11-11T14:12:59.304524  2020-12-21T10:52:58.995860+00:00  \n",
       "   ZTF18aacnlxz  2020-11-22T12:27:04.889881  2020-12-21T10:10:24.000947+00:00  \n",
       "...                                     ...                               ...  \n",
       "65 ZTF21aaahuox  2021-01-02T12:08:10.560114  2021-02-19T08:57:00.996465+00:00  \n",
       "   ZTF21aakupth  2021-02-13T08:38:18.383797  2021-03-30T08:05:45.000958+00:00  \n",
       "   ZTF21aamiukc  2021-02-21T06:20:06.238316  2021-03-30T07:47:53.001583+00:00  \n",
       "   ZTF21aapzzgf  2021-03-20T11:19:31.000619  2021-03-28T08:11:49.004174+00:00  \n",
       "   ZTF21aaqugxm  2021-03-27T07:58:44.552171  2021-03-30T08:41:01.999695+00:00  \n",
       "\n",
       "[10117 rows x 6 columns]"
      ]
     },
     "execution_count": 10,
     "metadata": {},
     "output_type": "execute_result"
    }
   ],
   "source": [
    "pandas.concat(fu._call_down_sample_(\"data\", isfunc=False))"
   ]
  },
  {
   "cell_type": "markdown",
   "metadata": {},
   "source": [
    "Store actually call down each sample store methods"
   ]
  },
  {
   "cell_type": "code",
   "execution_count": 11,
   "metadata": {},
   "outputs": [],
   "source": [
    "fu.store()"
   ]
  },
  {
   "cell_type": "code",
   "execution_count": 3,
   "metadata": {},
   "outputs": [
    {
     "data": {
      "text/plain": [
       "['fritz_sample_125.csv',\n",
       " 'fritz_sample_253.csv',\n",
       " 'fritz_sample_41.csv',\n",
       " 'fritz_sample_55.csv',\n",
       " 'fritz_sample_251.csv',\n",
       " 'fritz_sample_209.csv',\n",
       " 'fritz_sample_215.csv',\n",
       " 'fritz_sample_177.csv',\n",
       " 'fritz_groups.json',\n",
       " 'fritz_sample_65.csv',\n",
       " 'fritz_sample_49.csv',\n",
       " 'fritz_sample_88.csv',\n",
       " 'fritz_sample_63.csv']"
      ]
     },
     "execution_count": 3,
     "metadata": {},
     "output_type": "execute_result"
    }
   ],
   "source": [
    "# Check if rcf is there.\n",
    "import os\n",
    "os.listdir(os.path.join(os.getenv('ZTFDATA'), \"fritz/sample/\"))"
   ]
  },
  {
   "cell_type": "code",
   "execution_count": null,
   "metadata": {},
   "outputs": [],
   "source": []
  },
  {
   "cell_type": "markdown",
   "metadata": {},
   "source": [
    "## load_local()\n",
    "\n",
    "the `load_local()` class method enable to load the stored samples (so there data)"
   ]
  },
  {
   "cell_type": "code",
   "execution_count": 7,
   "metadata": {},
   "outputs": [
    {
     "name": "stdout",
     "output_type": "stream",
     "text": [
      "CPU times: user 140 ms, sys: 11.7 ms, total: 151 ms\n",
      "Wall time: 557 ms\n"
     ]
    }
   ],
   "source": [
    "%time fu_loaded = fritz.FritzAccess.load_local()"
   ]
  },
  {
   "cell_type": "code",
   "execution_count": 8,
   "metadata": {},
   "outputs": [
    {
     "data": {
      "text/html": [
       "<div>\n",
       "<style scoped>\n",
       "    .dataframe tbody tr th:only-of-type {\n",
       "        vertical-align: middle;\n",
       "    }\n",
       "\n",
       "    .dataframe tbody tr th {\n",
       "        vertical-align: top;\n",
       "    }\n",
       "\n",
       "    .dataframe thead th {\n",
       "        text-align: right;\n",
       "    }\n",
       "</style>\n",
       "<table border=\"1\" class=\"dataframe\">\n",
       "  <thead>\n",
       "    <tr style=\"text-align: right;\">\n",
       "      <th></th>\n",
       "      <th></th>\n",
       "      <th>index</th>\n",
       "      <th>redshift</th>\n",
       "      <th>ra</th>\n",
       "      <th>dec</th>\n",
       "      <th>classification</th>\n",
       "      <th>created_at</th>\n",
       "      <th>last_detected_at</th>\n",
       "    </tr>\n",
       "    <tr>\n",
       "      <th></th>\n",
       "      <th>name</th>\n",
       "      <th></th>\n",
       "      <th></th>\n",
       "      <th></th>\n",
       "      <th></th>\n",
       "      <th></th>\n",
       "      <th></th>\n",
       "      <th></th>\n",
       "    </tr>\n",
       "  </thead>\n",
       "  <tbody>\n",
       "    <tr>\n",
       "      <th rowspan=\"2\" valign=\"top\">125</th>\n",
       "      <th>ZTF20acqzjqz</th>\n",
       "      <td>0</td>\n",
       "      <td>0.030000</td>\n",
       "      <td>43.746057</td>\n",
       "      <td>4.060219</td>\n",
       "      <td>Ia</td>\n",
       "      <td>2020-11-17T05:58:18.438444</td>\n",
       "      <td>2021-02-25T04:11:00.003850+00:00</td>\n",
       "    </tr>\n",
       "    <tr>\n",
       "      <th>ZTF21aagbpvf</th>\n",
       "      <td>1</td>\n",
       "      <td>0.005941</td>\n",
       "      <td>207.061471</td>\n",
       "      <td>68.089712</td>\n",
       "      <td>Ib/c</td>\n",
       "      <td>2021-01-18T11:18:34.032966</td>\n",
       "      <td>2021-03-18T07:48:21.003845+00:00</td>\n",
       "    </tr>\n",
       "    <tr>\n",
       "      <th rowspan=\"3\" valign=\"top\">253</th>\n",
       "      <th>ZTF18acbvgqw</th>\n",
       "      <td>0</td>\n",
       "      <td>0.008673</td>\n",
       "      <td>46.512556</td>\n",
       "      <td>-15.611485</td>\n",
       "      <td>Ia</td>\n",
       "      <td>2020-11-05T06:57:06.837416</td>\n",
       "      <td>2020-02-02T03:38:04.001291+00:00</td>\n",
       "    </tr>\n",
       "    <tr>\n",
       "      <th>ZTF19aacgslb</th>\n",
       "      <td>1</td>\n",
       "      <td>0.004520</td>\n",
       "      <td>157.341541</td>\n",
       "      <td>29.510627</td>\n",
       "      <td>Ia</td>\n",
       "      <td>2020-11-05T03:39:15.319208</td>\n",
       "      <td>2021-02-28T08:10:58.002238+00:00</td>\n",
       "    </tr>\n",
       "    <tr>\n",
       "      <th>ZTF19aatlmbo</th>\n",
       "      <td>2</td>\n",
       "      <td>0.007755</td>\n",
       "      <td>208.371399</td>\n",
       "      <td>40.275421</td>\n",
       "      <td>Ia</td>\n",
       "      <td>2020-11-04T21:37:23.495001</td>\n",
       "      <td>2020-03-28T06:47:16.995837+00:00</td>\n",
       "    </tr>\n",
       "    <tr>\n",
       "      <th>...</th>\n",
       "      <th>...</th>\n",
       "      <td>...</td>\n",
       "      <td>...</td>\n",
       "      <td>...</td>\n",
       "      <td>...</td>\n",
       "      <td>...</td>\n",
       "      <td>...</td>\n",
       "      <td>...</td>\n",
       "    </tr>\n",
       "    <tr>\n",
       "      <th rowspan=\"5\" valign=\"top\">63</th>\n",
       "      <th>ZTF21aahdnpx</th>\n",
       "      <td>196</td>\n",
       "      <td>NaN</td>\n",
       "      <td>139.295916</td>\n",
       "      <td>20.052365</td>\n",
       "      <td>[]</td>\n",
       "      <td>2021-02-05T08:41:16.203917</td>\n",
       "      <td>2021-02-05T08:29:18.003835+00:00</td>\n",
       "    </tr>\n",
       "    <tr>\n",
       "      <th>ZTF21aahkaib</th>\n",
       "      <td>197</td>\n",
       "      <td>0.054894</td>\n",
       "      <td>133.941858</td>\n",
       "      <td>4.222989</td>\n",
       "      <td>[]</td>\n",
       "      <td>2021-02-06T10:48:49.021924</td>\n",
       "      <td>2021-02-06T06:28:22.002235+00:00</td>\n",
       "    </tr>\n",
       "    <tr>\n",
       "      <th>ZTF21aapszhp</th>\n",
       "      <td>198</td>\n",
       "      <td>0.029240</td>\n",
       "      <td>179.887464</td>\n",
       "      <td>30.146720</td>\n",
       "      <td>[]</td>\n",
       "      <td>2021-03-18T08:48:12.662843</td>\n",
       "      <td>2021-03-18T08:34:04.998738+00:00</td>\n",
       "    </tr>\n",
       "    <tr>\n",
       "      <th>ZTF21aaqafcf</th>\n",
       "      <td>199</td>\n",
       "      <td>0.043190</td>\n",
       "      <td>184.143244</td>\n",
       "      <td>60.364532</td>\n",
       "      <td>Ia</td>\n",
       "      <td>2021-03-19T07:58:43.231510</td>\n",
       "      <td>2021-03-30T05:29:18.997433+00:00</td>\n",
       "    </tr>\n",
       "    <tr>\n",
       "      <th>ZTF21aaqpyfm</th>\n",
       "      <td>200</td>\n",
       "      <td>0.036500</td>\n",
       "      <td>266.210851</td>\n",
       "      <td>61.494269</td>\n",
       "      <td>[]</td>\n",
       "      <td>2021-03-24T08:30:34.631721</td>\n",
       "      <td>2021-03-30T08:55:35.002564+00:00</td>\n",
       "    </tr>\n",
       "  </tbody>\n",
       "</table>\n",
       "<p>10117 rows × 7 columns</p>\n",
       "</div>"
      ],
      "text/plain": [
       "                  index  redshift          ra        dec classification  \\\n",
       "    name                                                                  \n",
       "125 ZTF20acqzjqz      0  0.030000   43.746057   4.060219             Ia   \n",
       "    ZTF21aagbpvf      1  0.005941  207.061471  68.089712           Ib/c   \n",
       "253 ZTF18acbvgqw      0  0.008673   46.512556 -15.611485             Ia   \n",
       "    ZTF19aacgslb      1  0.004520  157.341541  29.510627             Ia   \n",
       "    ZTF19aatlmbo      2  0.007755  208.371399  40.275421             Ia   \n",
       "...                 ...       ...         ...        ...            ...   \n",
       "63  ZTF21aahdnpx    196       NaN  139.295916  20.052365             []   \n",
       "    ZTF21aahkaib    197  0.054894  133.941858   4.222989             []   \n",
       "    ZTF21aapszhp    198  0.029240  179.887464  30.146720             []   \n",
       "    ZTF21aaqafcf    199  0.043190  184.143244  60.364532             Ia   \n",
       "    ZTF21aaqpyfm    200  0.036500  266.210851  61.494269             []   \n",
       "\n",
       "                                  created_at                  last_detected_at  \n",
       "    name                                                                        \n",
       "125 ZTF20acqzjqz  2020-11-17T05:58:18.438444  2021-02-25T04:11:00.003850+00:00  \n",
       "    ZTF21aagbpvf  2021-01-18T11:18:34.032966  2021-03-18T07:48:21.003845+00:00  \n",
       "253 ZTF18acbvgqw  2020-11-05T06:57:06.837416  2020-02-02T03:38:04.001291+00:00  \n",
       "    ZTF19aacgslb  2020-11-05T03:39:15.319208  2021-02-28T08:10:58.002238+00:00  \n",
       "    ZTF19aatlmbo  2020-11-04T21:37:23.495001  2020-03-28T06:47:16.995837+00:00  \n",
       "...                                      ...                               ...  \n",
       "63  ZTF21aahdnpx  2021-02-05T08:41:16.203917  2021-02-05T08:29:18.003835+00:00  \n",
       "    ZTF21aahkaib  2021-02-06T10:48:49.021924  2021-02-06T06:28:22.002235+00:00  \n",
       "    ZTF21aapszhp  2021-03-18T08:48:12.662843  2021-03-18T08:34:04.998738+00:00  \n",
       "    ZTF21aaqafcf  2021-03-19T07:58:43.231510  2021-03-30T05:29:18.997433+00:00  \n",
       "    ZTF21aaqpyfm  2021-03-24T08:30:34.631721  2021-03-30T08:55:35.002564+00:00  \n",
       "\n",
       "[10117 rows x 7 columns]"
      ]
     },
     "execution_count": 8,
     "metadata": {},
     "output_type": "execute_result"
    }
   ],
   "source": [
    "fu_loaded.data"
   ]
  },
  {
   "cell_type": "code",
   "execution_count": 9,
   "metadata": {},
   "outputs": [
    {
     "data": {
      "text/plain": [
       "{'Rigault Research Group': 2,\n",
       " 'Calibrator SNe Ia': 15,\n",
       " 'Redshift Completeness Factor': 7840,\n",
       " 'Cosmology with Type Ia Supernovae': 2,\n",
       " 'Same host SNe': 119,\n",
       " 'SEDM Partnership-wide Group': 605,\n",
       " 'Treasures': 901,\n",
       " 'Type Ia Supernovae': 11,\n",
       " 'Weizmann_Test': 78,\n",
       " 'Infant Supernovae': 329,\n",
       " 'Physics of Transients': 14,\n",
       " 'AmpelGroup_test1': 201}"
      ]
     },
     "execution_count": 9,
     "metadata": {},
     "output_type": "execute_result"
    }
   ],
   "source": [
    "fu_loaded.get_samples_size()"
   ]
  },
  {
   "cell_type": "code",
   "execution_count": 11,
   "metadata": {},
   "outputs": [
    {
     "data": {
      "text/plain": [
       "array(['ZTF20acodpwm', 'ZTF20acohkja', 'ZTF20acodppm', 'ZTF20acodpye',\n",
       "       'ZTF20acodppq', 'ZTF20acnwgtl', 'ZTF20acoojba', 'ZTF20achshbr',\n",
       "       'ZTF20acllvho', 'ZTF20ackxrbh', 'ZTF20acpqcjc', 'ZTF20aclgnds',\n",
       "       'ZTF20aclzygx', 'ZTF20acjzipj', 'ZTF18abadmpz', 'ZTF20acmlkoc',\n",
       "       'ZTF20acnwbuo', 'ZTF20acnwdau', 'ZTF20acnvzga', 'ZTF19abwamby',\n",
       "       'ZTF20aclkyjg', 'ZTF20acnzkxb', 'ZTF20achvdtx', 'ZTF20acrdadi',\n",
       "       'ZTF20aclkyhj', 'ZTF20acjynpx', 'ZTF20acszwan', 'ZTF20acnvprg',\n",
       "       'ZTF20acpmcbw', 'ZTF20acpmcmu', 'ZTF20acpuwbf', 'ZTF20acplqrq',\n",
       "       'ZTF20acqismu', 'ZTF20aclnpgu', 'ZTF20acmgscj', 'ZTF20acqztpi',\n",
       "       'ZTF20acreckb', 'ZTF20acqwaiy', 'ZTF20acqyfie', 'ZTF20acpprmy',\n",
       "       'ZTF20acqpxdc', 'ZTF20acrtzgt', 'ZTF20acsopse', 'ZTF20acstglw',\n",
       "       'ZTF20acrvlem', 'ZTF20acqoxod', 'ZTF20acrmolb', 'ZTF20acnwjwp',\n",
       "       'ZTF20acqqmtf', 'ZTF20acuzydz', 'ZTF20ackrqfi', 'ZTF20acpjodk',\n",
       "       'ZTF20aclxbwk', 'ZTF20acprazr', 'ZTF20acuiuvw', 'ZTF20acuiuke',\n",
       "       'ZTF20acoaqpm', 'ZTF18acfhmhp', 'ZTF20acpzaoa', 'ZTF20acqldir',\n",
       "       'ZTF20ackkejs', 'ZTF20acthbdd', 'ZTF20acmydwh', 'ZTF20acnwjqa',\n",
       "       'ZTF20acusjxt', 'ZTF20acnezne', 'ZTF20acnvorm', 'ZTF20acwiojc',\n",
       "       'ZTF20acpkprl', 'ZTF20acwfcaq', 'ZTF20acpkpla', 'ZTF20acnvtxy',\n",
       "       'ZTF20acwmcys', 'ZTF20acoqlrd', 'ZTF20acqlfwb', 'ZTF20acvbrbv',\n",
       "       'ZTF20acxvcoe', 'ZTF20acxvdnd', 'ZTF20acoplqe', 'ZTF20acogybn',\n",
       "       'ZTF20actddoh', 'ZTF20acovrzx', 'ZTF20acppzah', 'ZTF20acpqbfu',\n",
       "       'ZTF20actekrw', 'ZTF20acvczmt', 'ZTF20acrjdjk', 'ZTF18aadsuxd',\n",
       "       'ZTF20acmzoxo', 'ZTF20aclnsts', 'ZTF20acounxo', 'ZTF20acouofb',\n",
       "       'ZTF20acvevsn', 'ZTF20acvbcrd', 'ZTF20acrzuko', 'ZTF20acowpur',\n",
       "       'ZTF20actfoxr', 'ZTF20acypdlh', 'ZTF20aczkvvy', 'ZTF20acwijiy',\n",
       "       'ZTF20acvsxob', 'ZTF20acurtpj', 'ZTF20acweyro', 'ZTF20acumrio',\n",
       "       'ZTF20acvbneg', 'ZTF21aacndur', 'ZTF20acrufey', 'ZTF20acrdemq',\n",
       "       'ZTF20ackitai', 'ZTF20acpjcoe', 'ZTF21aaazjia', 'ZTF20acwcfvx',\n",
       "       'ZTF21aabfson', 'ZTF20acueziy', 'ZTF20actpbck', 'ZTF21aaarlbp',\n",
       "       'ZTF21aaaiafo', 'ZTF20acwncbd', 'ZTF21aacngjg', 'ZTF20actocyw',\n",
       "       'ZTF20acmaaan', 'ZTF20acxnafa', 'ZTF21aadloxe', 'ZTF21aabavaz',\n",
       "       'ZTF20acpkefi', 'ZTF20acqzpta', 'ZTF21aabyifm', 'ZTF20acwnqcy',\n",
       "       'ZTF21aaaadmo', 'ZTF20acuozua', 'ZTF20acjyyco', 'ZTF20acrudzk',\n",
       "       'ZTF20acpujxl', 'ZTF20acxqnhn', 'ZTF20acphjgz', 'ZTF20actfeym',\n",
       "       'ZTF20acprmuv', 'ZTF20acxnxbh', 'ZTF20acutkgr', 'ZTF21aaaoviv',\n",
       "       'ZTF21aaabwem', 'ZTF20actkulc', 'ZTF20acklcyp', 'ZTF20actqnhg',\n",
       "       'ZTF20acpevli', 'ZTF20acytfkf', 'ZTF21aadalct', 'ZTF21aaevrjl',\n",
       "       'ZTF21aalnyny', 'ZTF20acusneh', 'ZTF20acqksdi', 'ZTF20acrbpqd',\n",
       "       'ZTF21aacufqf', 'ZTF20acxvvnf', 'ZTF20acyvzbr', 'ZTF20adadshh',\n",
       "       'ZTF20acqgklx', 'ZTF21aaphvyi', 'ZTF20acucbek', 'ZTF21aaluqkp',\n",
       "       'ZTF21aaahuox', 'ZTF20acqzjqz', 'ZTF21aacxung', 'ZTF21aaaosoq',\n",
       "       'ZTF21aacscvb', 'ZTF20acwobku', 'ZTF21aafkwtk', 'ZTF21aamiukc',\n",
       "       'ZTF20actnuls', 'ZTF21aakilyd', 'ZTF21aamuniy', 'ZTF21aabpszb',\n",
       "       'ZTF20acytgxf', 'ZTF21aagolqa', 'ZTF21aaiaeri', 'ZTF21aanehlz',\n",
       "       'ZTF21aamxdns', 'ZTF20acviwgj', 'ZTF20acvjagm', 'ZTF20acrinvz',\n",
       "       'ZTF20aclvtnk', 'ZTF21aanzcuj', 'ZTF21aafgljq', 'ZTF20actkmks',\n",
       "       'ZTF20acveadu', 'ZTF18abgqvwv', 'ZTF21aabygea', 'ZTF21aadkhte',\n",
       "       'ZTF21aaphzsw', 'ZTF21aapqzxr', 'ZTF21aaprgdh', 'ZTF21aapliyn',\n",
       "       'ZTF21aapfmut', 'ZTF21aakupth', 'ZTF21aankmzt', 'ZTF21aaabtyq',\n",
       "       'ZTF21aapejbx', 'ZTF20acrzwvx', 'ZTF20aclvvws', 'ZTF20acwgxhk',\n",
       "       'ZTF21aaqgedd', 'ZTF21aaampui', 'ZTF21aafepon', 'ZTF20acvjlev',\n",
       "       'ZTF20acqqdkl', 'ZTF21aapzzgf', 'ZTF21aaqafcf', 'ZTF21aapjmda',\n",
       "       'ZTF20acwfftd', 'ZTF21aannoix', 'ZTF21aalydkl', 'ZTF20aciwcuz',\n",
       "       'ZTF20acyybvq', 'ZTF21aanwfjk', 'ZTF20actawpa', 'ZTF21aamttit',\n",
       "       'ZTF21aahhars', 'ZTF20adadrhw', 'ZTF20acqntkr', 'ZTF20acugxbm',\n",
       "       'ZTF20acyyavb', 'ZTF21aapfowm', 'ZTF21aaqhhfu', 'ZTF21aaodljj',\n",
       "       'ZTF21aaipypa', 'ZTF21aaeoqxf', 'ZTF20acyqzeu', 'ZTF21aanvncv',\n",
       "       'ZTF21aaqgmjt', 'ZTF21aaplnef', 'ZTF21aadoizf', 'ZTF20acusylb',\n",
       "       'ZTF20adadlqv', 'ZTF20acxzqyp', 'ZTF21aaphpor', 'ZTF21aantxma',\n",
       "       'ZTF21aakijia', 'ZTF21aaiaqhh'], dtype='<U12')"
      ]
     },
     "execution_count": 11,
     "metadata": {},
     "output_type": "execute_result"
    }
   ],
   "source": [
    "fu_loaded.get_sample_overlap(\"Redshift Completeness Factor\", \"Infant Supernovae\")"
   ]
  },
  {
   "cell_type": "code",
   "execution_count": null,
   "metadata": {},
   "outputs": [],
   "source": []
  }
 ],
 "metadata": {
  "kernelspec": {
   "display_name": "Python 3",
   "language": "python",
   "name": "python3"
  },
  "language_info": {
   "codemirror_mode": {
    "name": "ipython",
    "version": 3
   },
   "file_extension": ".py",
   "mimetype": "text/x-python",
   "name": "python",
   "nbconvert_exporter": "python",
   "pygments_lexer": "ipython3",
   "version": "3.8.5"
  }
 },
 "nbformat": 4,
 "nbformat_minor": 4
}
