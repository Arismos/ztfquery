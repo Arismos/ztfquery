{
 "cells": [
  {
   "cell_type": "code",
   "execution_count": 1,
   "metadata": {},
   "outputs": [],
   "source": [
    "%matplotlib notebook"
   ]
  },
  {
   "cell_type": "code",
   "execution_count": 2,
   "metadata": {},
   "outputs": [],
   "source": [
    "from ztfquery import sedm\n",
    "import pandas\n",
    "import numpy as np\n",
    "import os"
   ]
  },
  {
   "cell_type": "markdown",
   "metadata": {},
   "source": [
    "***\n",
    "# 1 PharosIO | What has been observed when."
   ]
  },
  {
   "cell_type": "markdown",
   "metadata": {},
   "source": [
    "### 1.1 Structure\n",
    "PharosIO has two sets of data attributes:\n",
    "\n",
    "- `whatdata`: (multi-index) DataFrame serving as observing log\n",
    "- `pharosfile`: list of file on disk you have access to.\n",
    "\n",
    "The `PharosIO` object is built upon `whatdata` and `pharosfile` will be loaded only if necessary. This is made automatically and you should not need to manually do it.\n",
    "\n",
    "### 1.2 Individual date files\n",
    "Each night have one `whatfile` (file containing the `whatdata`) and one `pharosfile`. Once downloaded (see `download_whatfile()` and `download_pharosfile()`) they are stored in `$ZTFDATA/sedm/whatfiles` and `$ZTFDATA/sedm/pharosfile` respectively.\n",
    "\n",
    "\n",
    "### 1.3 `whatdata`, `store` and `load_local()`\n",
    "To avoid having to load many small file, the `PharosIO()` object is able to store the whatdata MultiIndex DataFrame, which concatenates all the individual `whatfile`'s data. calling `store()` stores it as `$ZTFDATA/sedm/whatfiles/stored_data.parquet`.\n",
    "\n",
    "Once you have called `store()` at least once, you can load a `PharosIO()`\n",
    "directly from this stored dataframe. This avoids to reopen each individual whatfiles and it much, much faster.\n",
    "\n",
    "```python\n",
    "pio = sedm.PharosIO.load_local(stored=True)\n",
    "```\n",
    "\n",
    "### 1.4 `update()`\n",
    "\n",
    "Once you have instanciate a `PharosIO` object, you can `update()` it. This will: 1. download the missing whatfiles, 2. reload the whatdata from the individual whatfiles to make sure it is up to date and 3. `store()` the new `whatdata`, such that the next time you use `load_local()` you get the updated `whatdata`.\n",
    "\n",
    "\n",
    "### 1.5: Parquet format\n",
    "\n",
    "whatfiles are stored using the parquet format for it is one on the fastest to read and right\n",
    "\n",
    "### 1.6 Dask `client`\n",
    "\n",
    "The `sedm.bulk_download()` accept as input a Dask `client` for multiprocess downloading that can scale effortlessly. Hence, the `download_whatfiles()` and download_pharosfiles() methods (and therefore `update()`) also accepts a `client` as they use bulk_download()"
   ]
  },
  {
   "cell_type": "code",
   "execution_count": 3,
   "metadata": {},
   "outputs": [],
   "source": [
    "pio = sedm.PharosIO()"
   ]
  },
  {
   "cell_type": "markdown",
   "metadata": {},
   "source": [
    "Nothing loaded"
   ]
  },
  {
   "cell_type": "code",
   "execution_count": 4,
   "metadata": {},
   "outputs": [],
   "source": [
    "pio.whatdata"
   ]
  },
  {
   "cell_type": "code",
   "execution_count": null,
   "metadata": {},
   "outputs": [],
   "source": []
  },
  {
   "cell_type": "code",
   "execution_count": null,
   "metadata": {},
   "outputs": [],
   "source": []
  },
  {
   "cell_type": "code",
   "execution_count": 7,
   "metadata": {},
   "outputs": [
    {
     "name": "stdout",
     "output_type": "stream",
     "text": [
      "<Client: 'tcp://127.0.0.1:55459' processes=4 threads=4, memory=17.18 GB>\n"
     ]
    }
   ],
   "source": [
    "USE_DASK = True\n",
    "\n",
    "if USE_DASK:\n",
    "    from dask.distributed import Client\n",
    "    #client = Client(n_workers=16)\n",
    "    client = Client() # faster I think\n",
    "    print(client)\n",
    "else:\n",
    "    client=None"
   ]
  },
  {
   "cell_type": "code",
   "execution_count": 6,
   "metadata": {},
   "outputs": [
    {
     "name": "stderr",
     "output_type": "stream",
     "text": [
      "/Users/mrigault/opt/anaconda3/lib/python3.8/site-packages/ztfquery-1.14.5-py3.8.egg/ztfquery/sedm.py:348: UserWarning: 'whatfiles' already up to date\n",
      "  warnings.warn(\"'whatfiles' already up to date\")\n"
     ]
    }
   ],
   "source": [
    "pio.update(client=client)"
   ]
  },
  {
   "cell_type": "code",
   "execution_count": 7,
   "metadata": {},
   "outputs": [
    {
     "data": {
      "text/html": [
       "<div>\n",
       "<style scoped>\n",
       "    .dataframe tbody tr th:only-of-type {\n",
       "        vertical-align: middle;\n",
       "    }\n",
       "\n",
       "    .dataframe tbody tr th {\n",
       "        vertical-align: top;\n",
       "    }\n",
       "\n",
       "    .dataframe thead th {\n",
       "        text-align: right;\n",
       "    }\n",
       "</style>\n",
       "<table border=\"1\" class=\"dataframe\">\n",
       "  <thead>\n",
       "    <tr style=\"text-align: right;\">\n",
       "      <th></th>\n",
       "      <th></th>\n",
       "      <th>filename</th>\n",
       "      <th>airmass</th>\n",
       "      <th>shutter</th>\n",
       "      <th>exptime</th>\n",
       "      <th>target</th>\n",
       "    </tr>\n",
       "  </thead>\n",
       "  <tbody>\n",
       "    <tr>\n",
       "      <th rowspan=\"5\" valign=\"top\">20210215</th>\n",
       "      <th>0</th>\n",
       "      <td>ifu20210215_00_01_05.fits</td>\n",
       "      <td>1.354</td>\n",
       "      <td>2.0</td>\n",
       "      <td>0.0</td>\n",
       "      <td>Calib bias 1 of 10</td>\n",
       "    </tr>\n",
       "    <tr>\n",
       "      <th>1</th>\n",
       "      <td>ifu20210215_00_01_10.fits</td>\n",
       "      <td>1.354</td>\n",
       "      <td>2.0</td>\n",
       "      <td>0.0</td>\n",
       "      <td>Calib bias 2 of 10</td>\n",
       "    </tr>\n",
       "    <tr>\n",
       "      <th>2</th>\n",
       "      <td>ifu20210215_00_01_15.fits</td>\n",
       "      <td>1.354</td>\n",
       "      <td>2.0</td>\n",
       "      <td>0.0</td>\n",
       "      <td>Calib bias 3 of 10</td>\n",
       "    </tr>\n",
       "    <tr>\n",
       "      <th>3</th>\n",
       "      <td>ifu20210215_00_01_20.fits</td>\n",
       "      <td>1.354</td>\n",
       "      <td>2.0</td>\n",
       "      <td>0.0</td>\n",
       "      <td>Calib bias 4 of 10</td>\n",
       "    </tr>\n",
       "    <tr>\n",
       "      <th>4</th>\n",
       "      <td>ifu20210215_00_01_25.fits</td>\n",
       "      <td>1.354</td>\n",
       "      <td>2.0</td>\n",
       "      <td>0.0</td>\n",
       "      <td>Calib bias 5 of 10</td>\n",
       "    </tr>\n",
       "    <tr>\n",
       "      <th>...</th>\n",
       "      <th>...</th>\n",
       "      <td>...</td>\n",
       "      <td>...</td>\n",
       "      <td>...</td>\n",
       "      <td>...</td>\n",
       "      <td>...</td>\n",
       "    </tr>\n",
       "    <tr>\n",
       "      <th rowspan=\"5\" valign=\"top\">20190425</th>\n",
       "      <th>45</th>\n",
       "      <td>ifu20190425_06_08_19.fits</td>\n",
       "      <td>1.302</td>\n",
       "      <td>0.1</td>\n",
       "      <td>1200.0</td>\n",
       "      <td>ZTF19aarinmw</td>\n",
       "    </tr>\n",
       "    <tr>\n",
       "      <th>46</th>\n",
       "      <td>ifu20190425_06_31_48.fits</td>\n",
       "      <td>1.603</td>\n",
       "      <td>0.1</td>\n",
       "      <td>2250.0</td>\n",
       "      <td>ZTF19aanesgt</td>\n",
       "    </tr>\n",
       "    <tr>\n",
       "      <th>47</th>\n",
       "      <td>ifu20190425_07_28_00.fits</td>\n",
       "      <td>1.006</td>\n",
       "      <td>0.1</td>\n",
       "      <td>180.0</td>\n",
       "      <td>STD-HZ44</td>\n",
       "    </tr>\n",
       "    <tr>\n",
       "      <th>48</th>\n",
       "      <td>ifu20190425_07_34_30.fits</td>\n",
       "      <td>1.942</td>\n",
       "      <td>0.1</td>\n",
       "      <td>2250.0</td>\n",
       "      <td>ZTF19aaphifl</td>\n",
       "    </tr>\n",
       "    <tr>\n",
       "      <th>49</th>\n",
       "      <td>ifu20190425_08_22_32.fits</td>\n",
       "      <td>1.114</td>\n",
       "      <td>0.1</td>\n",
       "      <td>1200.0</td>\n",
       "      <td>ZTF19aaqtcmy</td>\n",
       "    </tr>\n",
       "  </tbody>\n",
       "</table>\n",
       "<p>48504 rows × 5 columns</p>\n",
       "</div>"
      ],
      "text/plain": [
       "                              filename  airmass  shutter  exptime  \\\n",
       "20210215 0   ifu20210215_00_01_05.fits    1.354      2.0      0.0   \n",
       "         1   ifu20210215_00_01_10.fits    1.354      2.0      0.0   \n",
       "         2   ifu20210215_00_01_15.fits    1.354      2.0      0.0   \n",
       "         3   ifu20210215_00_01_20.fits    1.354      2.0      0.0   \n",
       "         4   ifu20210215_00_01_25.fits    1.354      2.0      0.0   \n",
       "...                                ...      ...      ...      ...   \n",
       "20190425 45  ifu20190425_06_08_19.fits    1.302      0.1   1200.0   \n",
       "         46  ifu20190425_06_31_48.fits    1.603      0.1   2250.0   \n",
       "         47  ifu20190425_07_28_00.fits    1.006      0.1    180.0   \n",
       "         48  ifu20190425_07_34_30.fits    1.942      0.1   2250.0   \n",
       "         49  ifu20190425_08_22_32.fits    1.114      0.1   1200.0   \n",
       "\n",
       "                         target  \n",
       "20210215 0   Calib bias 1 of 10  \n",
       "         1   Calib bias 2 of 10  \n",
       "         2   Calib bias 3 of 10  \n",
       "         3   Calib bias 4 of 10  \n",
       "         4   Calib bias 5 of 10  \n",
       "...                         ...  \n",
       "20190425 45        ZTF19aarinmw  \n",
       "         46        ZTF19aanesgt  \n",
       "         47            STD-HZ44  \n",
       "         48        ZTF19aaphifl  \n",
       "         49        ZTF19aaqtcmy  \n",
       "\n",
       "[48504 rows x 5 columns]"
      ]
     },
     "execution_count": 7,
     "metadata": {},
     "output_type": "execute_result"
    }
   ],
   "source": [
    "pio.whatdata"
   ]
  },
  {
   "cell_type": "markdown",
   "metadata": {},
   "source": [
    "## Let's use the load_local() now"
   ]
  },
  {
   "cell_type": "code",
   "execution_count": 4,
   "metadata": {},
   "outputs": [
    {
     "name": "stdout",
     "output_type": "stream",
     "text": [
      "CPU times: user 2.41 s, sys: 290 ms, total: 2.7 s\n",
      "Wall time: 2.49 s\n"
     ]
    }
   ],
   "source": [
    "%time pio = sedm.PharosIO.load_local() # stored = False by default"
   ]
  },
  {
   "cell_type": "code",
   "execution_count": 3,
   "metadata": {},
   "outputs": [
    {
     "name": "stdout",
     "output_type": "stream",
     "text": [
      "CPU times: user 103 ms, sys: 27.3 ms, total: 130 ms\n",
      "Wall time: 121 ms\n"
     ]
    }
   ],
   "source": [
    "%time pio = sedm.PharosIO.load_local(stored=True)"
   ]
  },
  {
   "cell_type": "code",
   "execution_count": 6,
   "metadata": {},
   "outputs": [
    {
     "data": {
      "text/plain": [
       "target\n",
       "ZTF02wi          1\n",
       "ZTF20aabcouv     1\n",
       "ZTF20aabcemq     1\n",
       "ZTF20aabbvcx     1\n",
       "ZTF20aaazhtk     1\n",
       "                ..\n",
       "ZTF20abwxywy    14\n",
       "ZTF20aaelulu    15\n",
       "ZTF19acxpuql    15\n",
       "ZTF19abucwzt    17\n",
       "ZTF19abqwtfu    21\n",
       "Length: 5931, dtype: int64"
      ]
     },
     "execution_count": 6,
     "metadata": {},
     "output_type": "execute_result"
    }
   ],
   "source": [
    "pio.get_whatdata(ztf_only=True).groupby(\"target\").size().sort_values(False)"
   ]
  },
  {
   "cell_type": "code",
   "execution_count": null,
   "metadata": {},
   "outputs": [],
   "source": []
  },
  {
   "cell_type": "markdown",
   "metadata": {},
   "source": [
    "## Massive downloading of the pharosfiles"
   ]
  },
  {
   "cell_type": "code",
   "execution_count": 11,
   "metadata": {},
   "outputs": [
    {
     "name": "stderr",
     "output_type": "stream",
     "text": [
      "/Users/mrigault/opt/anaconda3/lib/python3.8/site-packages/ztfquery-1.14.5-py3.8.egg/ztfquery/sedm.py:387: UserWarning: 'pharosfile' already up to date\n",
      "  warnings.warn(\"'pharosfile' already up to date\")\n"
     ]
    }
   ],
   "source": [
    "futures = pio.download_pharosfiles(client=client, force_dl=True) # check your localhost:8787"
   ]
  },
  {
   "cell_type": "code",
   "execution_count": 12,
   "metadata": {},
   "outputs": [],
   "source": [
    "# Check that all worked"
   ]
  },
  {
   "cell_type": "code",
   "execution_count": 4,
   "metadata": {},
   "outputs": [
    {
     "name": "stderr",
     "output_type": "stream",
     "text": [
      "/Users/mrigault/opt/anaconda3/lib/python3.8/site-packages/ztfquery-1.14.5-py3.8.egg/ztfquery/sedm.py:348: UserWarning: 'whatfiles' already up to date\n",
      "  warnings.warn(\"'whatfiles' already up to date\")\n"
     ]
    }
   ],
   "source": [
    "pio.update()"
   ]
  },
  {
   "cell_type": "markdown",
   "metadata": {},
   "source": [
    "### pharosfiles\n"
   ]
  },
  {
   "cell_type": "code",
   "execution_count": 4,
   "metadata": {},
   "outputs": [
    {
     "data": {
      "text/plain": [
       "['/data/20180822/20180822_Flat.fits',\n",
       " '/data/20180822/20180822_HexaGrid.pkl',\n",
       " '/data/20180822/20180822_TraceMatch.pkl',\n",
       " '/data/20180822/20180822_TraceMatch_WithMasks.pkl',\n",
       " '/data/20180822/20180822_WaveSolution.pkl',\n",
       " '/data/20180822/20180822_WaveSolution_range_0_201.pkl',\n",
       " '/data/20180822/20180822_WaveSolution_range_1005_1206.pkl',\n",
       " '/data/20180822/20180822_WaveSolution_range_1206_1406.pkl',\n",
       " '/data/20180822/20180822_WaveSolution_range_1406_1606.pkl',\n",
       " '/data/20180822/20180822_WaveSolution_range_201_402.pkl',\n",
       " '/data/20180822/20180822_WaveSolution_range_402_603.pkl',\n",
       " '/data/20180822/20180822_WaveSolution_range_603_804.pkl',\n",
       " '/data/20180822/20180822_WaveSolution_range_804_1005.pkl',\n",
       " '/data/20180822/20180822_flat3d.png',\n",
       " '/data/20180822/20180822_wavesolution_dispersionmap.png',\n",
       " '/data/20180822/Cd.fits',\n",
       " '/data/20180822/Hg.fits',\n",
       " '/data/20180822/Xe.fits',\n",
       " '/data/20180822/bkgd_crr_b_ifu20180822_03_25_34.fits',\n",
       " '/data/20180822/bkgd_crr_b_ifu20180822_03_31_14.fits',\n",
       " '/data/20180822/bkgd_crr_b_ifu20180822_04_14_33.fits',\n",
       " '/data/20180822/bkgd_crr_b_ifu20180822_04_58_28.fits',\n",
       " '/data/20180822/bkgd_crr_b_ifu20180822_05_05_46.fits',\n",
       " '/data/20180822/bkgd_crr_b_ifu20180822_05_32_55.fits',\n",
       " '/data/20180822/bkgd_crr_b_ifu20180822_06_16_08.fits',\n",
       " '/data/20180822/bkgd_crr_b_ifu20180822_06_59_37.fits',\n",
       " '/data/20180822/bkgd_crr_b_ifu20180822_07_42_57.fits',\n",
       " '/data/20180822/bkgd_crr_b_ifu20180822_08_09_21.fits',\n",
       " '/data/20180822/bkgd_crr_b_ifu20180822_08_35_46.fits',\n",
       " '/data/20180822/bkgd_crr_b_ifu20180822_08_43_32.fits',\n",
       " '/data/20180822/bkgd_dome.fits',\n",
       " '/data/20180822/dome.fits',\n",
       " '/data/20180822/e3d_crr_b_ifu20180822_03_25_34_STD-BD+33d2642.fits',\n",
       " '/data/20180822/e3d_crr_b_ifu20180822_03_31_14_ZTF18abojyvp.fits',\n",
       " '/data/20180822/e3d_crr_b_ifu20180822_04_14_33_ZTF18abnoonq.fits',\n",
       " '/data/20180822/e3d_crr_b_ifu20180822_04_58_28_STD-BD+28d4211.fits',\n",
       " '/data/20180822/e3d_crr_b_ifu20180822_05_05_46_ZTF18abnuark.fits',\n",
       " '/data/20180822/e3d_crr_b_ifu20180822_05_32_55_ZTF18aarvcmx.fits',\n",
       " '/data/20180822/e3d_crr_b_ifu20180822_06_16_08_ZTF18ablusuz.fits',\n",
       " '/data/20180822/e3d_crr_b_ifu20180822_06_59_37_ZTF18abolqvi.fits',\n",
       " '/data/20180822/e3d_crr_b_ifu20180822_07_42_57_ZTF18abmqrwk.fits',\n",
       " '/data/20180822/e3d_crr_b_ifu20180822_08_09_21_ZTF17aaawgkc.fits',\n",
       " '/data/20180822/e3d_crr_b_ifu20180822_08_35_46_STD-BD+25d4655.fits',\n",
       " '/data/20180822/e3d_crr_b_ifu20180822_08_43_32_ZTF18abomhip.fits',\n",
       " '/data/20180822/e3d_dome.fits',\n",
       " '/data/20180822/finder_rc20180822_03_29_50_ACQ-ZTF18abojyvp_NA.png',\n",
       " '/data/20180822/finder_rc20180822_04_13_14_ACQ-ZTF18abnoonq_NA.png',\n",
       " '/data/20180822/finder_rc20180822_05_04_26_ACQ-ZTF18abnuark_NA.png',\n",
       " '/data/20180822/finder_rc20180822_05_31_23_ACQ-ZTF18aarvcmx_NA.png',\n",
       " '/data/20180822/finder_rc20180822_06_14_39_ACQ-ZTF18ablusuz_NA.png',\n",
       " '/data/20180822/finder_rc20180822_06_58_17_ACQ-ZTF18abolqvi_NA.png',\n",
       " '/data/20180822/finder_rc20180822_07_41_39_ACQ-ZTF18abmqrwk_NA.png',\n",
       " '/data/20180822/finder_rc20180822_08_08_02_ACQ-ZTF17aaawgkc_NA.png',\n",
       " '/data/20180822/finder_rc20180822_08_42_13_ACQ-ZTF18abomhip_NA.png',\n",
       " '/data/20180822/fluxcal_forcepsf_auto_lstep1___crr_b_ifu20180822_03_25_34_STD-BD+33d2642.fits',\n",
       " '/data/20180822/fluxcal_forcepsf_auto_lstep1__crr_b_ifu20180822_04_58_28_STD-BD+28d4211.fits',\n",
       " '/data/20180822/fluxcal_forcepsf_auto_lstep1__crr_b_ifu20180822_08_35_46_STD-BD+25d4655.fits',\n",
       " '/data/20180822/guider_crr_b_ifu20180822_03_31_14_astrom.fits',\n",
       " '/data/20180822/guider_crr_b_ifu20180822_04_14_33_astrom.fits',\n",
       " '/data/20180822/guider_crr_b_ifu20180822_05_05_46_astrom.fits',\n",
       " '/data/20180822/guider_crr_b_ifu20180822_05_32_55_astrom.fits',\n",
       " '/data/20180822/guider_crr_b_ifu20180822_06_16_08_astrom.fits',\n",
       " '/data/20180822/guider_crr_b_ifu20180822_06_59_37_astrom.fits',\n",
       " '/data/20180822/guider_crr_b_ifu20180822_07_42_57_astrom.fits',\n",
       " '/data/20180822/guider_crr_b_ifu20180822_08_09_21_astrom.fits',\n",
       " '/data/20180822/guider_crr_b_ifu20180822_08_43_32_astrom.fits',\n",
       " '/data/20180822/ifu_spaxels_source_aperture_notfluxcal__crr_b_ifu20180822_03_25_34_STD-BD+33d2642.png',\n",
       " '/data/20180822/ifu_spaxels_source_aperture_notfluxcal__crr_b_ifu20180822_04_58_28_STD-BD+28d4211.png',\n",
       " '/data/20180822/ifu_spaxels_source_aperture_notfluxcal__crr_b_ifu20180822_08_35_46_STD-BD+25d4655.png',\n",
       " '/data/20180822/ifu_spaxels_source_forcepsf_auto_lstep1__crr_b_ifu20180822_03_31_14_ZTF18abojyvp.png',\n",
       " '/data/20180822/ifu_spaxels_source_forcepsf_auto_lstep1__crr_b_ifu20180822_04_14_33_ZTF18abnoonq.png',\n",
       " '/data/20180822/ifu_spaxels_source_forcepsf_auto_lstep1__crr_b_ifu20180822_04_58_28_STD-BD+28d4211.png',\n",
       " '/data/20180822/ifu_spaxels_source_forcepsf_auto_lstep1__crr_b_ifu20180822_05_05_46_ZTF18abnuark.png',\n",
       " '/data/20180822/ifu_spaxels_source_forcepsf_auto_lstep1__crr_b_ifu20180822_05_32_55_ZTF18aarvcmx.png',\n",
       " '/data/20180822/ifu_spaxels_source_forcepsf_auto_lstep1__crr_b_ifu20180822_06_16_08_ZTF18ablusuz.png',\n",
       " '/data/20180822/ifu_spaxels_source_forcepsf_auto_lstep1__crr_b_ifu20180822_06_59_37_ZTF18abolqvi.png',\n",
       " '/data/20180822/ifu_spaxels_source_forcepsf_auto_lstep1__crr_b_ifu20180822_07_42_57_ZTF18abmqrwk.png',\n",
       " '/data/20180822/ifu_spaxels_source_forcepsf_auto_lstep1__crr_b_ifu20180822_08_09_21_ZTF17aaawgkc.png',\n",
       " '/data/20180822/ifu_spaxels_source_forcepsf_auto_lstep1__crr_b_ifu20180822_08_35_46_STD-BD+25d4655.png',\n",
       " '/data/20180822/ifu_spaxels_source_forcepsf_auto_lstep1__crr_b_ifu20180822_08_43_32_ZTF18abomhip.png',\n",
       " '/data/20180822/ifu_spaxels_source_forcepsf_auto_lstep1_notfluxcal__crr_b_ifu20180822_03_25_34_STD-BD+33d2642.png',\n",
       " '/data/20180822/spec_aperture_notfluxcal__crr_b_ifu20180822_03_25_34_STD-BD+33d2642.fits',\n",
       " '/data/20180822/spec_aperture_notfluxcal__crr_b_ifu20180822_03_25_34_STD-BD+33d2642.pdf',\n",
       " '/data/20180822/spec_aperture_notfluxcal__crr_b_ifu20180822_03_25_34_STD-BD+33d2642.png',\n",
       " '/data/20180822/spec_aperture_notfluxcal__crr_b_ifu20180822_03_25_34_STD-BD+33d2642.txt',\n",
       " '/data/20180822/spec_aperture_notfluxcal__crr_b_ifu20180822_03_25_34_STD-BD+33d2642_ea.fits',\n",
       " '/data/20180822/spec_aperture_notfluxcal__crr_b_ifu20180822_03_25_34_STD-BD+33d2642_eff.png',\n",
       " '/data/20180822/spec_aperture_notfluxcal__crr_b_ifu20180822_04_58_28_STD-BD+28d4211.fits',\n",
       " '/data/20180822/spec_aperture_notfluxcal__crr_b_ifu20180822_04_58_28_STD-BD+28d4211.pdf',\n",
       " '/data/20180822/spec_aperture_notfluxcal__crr_b_ifu20180822_04_58_28_STD-BD+28d4211.png',\n",
       " '/data/20180822/spec_aperture_notfluxcal__crr_b_ifu20180822_04_58_28_STD-BD+28d4211.txt',\n",
       " '/data/20180822/spec_aperture_notfluxcal__crr_b_ifu20180822_04_58_28_STD-BD+28d4211_ea.fits',\n",
       " '/data/20180822/spec_aperture_notfluxcal__crr_b_ifu20180822_04_58_28_STD-BD+28d4211_eff.png',\n",
       " '/data/20180822/spec_aperture_notfluxcal__crr_b_ifu20180822_08_35_46_STD-BD+25d4655.fits',\n",
       " '/data/20180822/spec_aperture_notfluxcal__crr_b_ifu20180822_08_35_46_STD-BD+25d4655.pdf',\n",
       " '/data/20180822/spec_aperture_notfluxcal__crr_b_ifu20180822_08_35_46_STD-BD+25d4655.png',\n",
       " '/data/20180822/spec_aperture_notfluxcal__crr_b_ifu20180822_08_35_46_STD-BD+25d4655.txt',\n",
       " '/data/20180822/spec_aperture_notfluxcal__crr_b_ifu20180822_08_35_46_STD-BD+25d4655_ea.fits',\n",
       " '/data/20180822/spec_aperture_notfluxcal__crr_b_ifu20180822_08_35_46_STD-BD+25d4655_eff.png',\n",
       " '/data/20180822/spec_forcepsf_auto_lstep1__crr_b_ifu20180822_03_31_14_ZTF18abojyvp.fits',\n",
       " '/data/20180822/spec_forcepsf_auto_lstep1__crr_b_ifu20180822_03_31_14_ZTF18abojyvp.pdf',\n",
       " '/data/20180822/spec_forcepsf_auto_lstep1__crr_b_ifu20180822_03_31_14_ZTF18abojyvp.png',\n",
       " '/data/20180822/spec_forcepsf_auto_lstep1__crr_b_ifu20180822_03_31_14_ZTF18abojyvp.png',\n",
       " '/data/20180822/spec_forcepsf_auto_lstep1__crr_b_ifu20180822_03_31_14_ZTF18abojyvp.txt',\n",
       " '/data/20180822/spec_forcepsf_auto_lstep1__crr_b_ifu20180822_03_31_14_ZTF18abojyvp.txt',\n",
       " '/data/20180822/spec_forcepsf_auto_lstep1__crr_b_ifu20180822_04_14_33_ZTF18abnoonq.fits',\n",
       " '/data/20180822/spec_forcepsf_auto_lstep1__crr_b_ifu20180822_04_14_33_ZTF18abnoonq.pdf',\n",
       " '/data/20180822/spec_forcepsf_auto_lstep1__crr_b_ifu20180822_04_14_33_ZTF18abnoonq.png',\n",
       " '/data/20180822/spec_forcepsf_auto_lstep1__crr_b_ifu20180822_04_14_33_ZTF18abnoonq.png',\n",
       " '/data/20180822/spec_forcepsf_auto_lstep1__crr_b_ifu20180822_04_14_33_ZTF18abnoonq.txt',\n",
       " '/data/20180822/spec_forcepsf_auto_lstep1__crr_b_ifu20180822_04_14_33_ZTF18abnoonq.txt',\n",
       " '/data/20180822/spec_forcepsf_auto_lstep1__crr_b_ifu20180822_04_58_28_STD-BD+28d4211.fits',\n",
       " '/data/20180822/spec_forcepsf_auto_lstep1__crr_b_ifu20180822_04_58_28_STD-BD+28d4211.pdf',\n",
       " '/data/20180822/spec_forcepsf_auto_lstep1__crr_b_ifu20180822_04_58_28_STD-BD+28d4211.png',\n",
       " '/data/20180822/spec_forcepsf_auto_lstep1__crr_b_ifu20180822_04_58_28_STD-BD+28d4211.png',\n",
       " '/data/20180822/spec_forcepsf_auto_lstep1__crr_b_ifu20180822_04_58_28_STD-BD+28d4211.txt',\n",
       " '/data/20180822/spec_forcepsf_auto_lstep1__crr_b_ifu20180822_04_58_28_STD-BD+28d4211.txt',\n",
       " '/data/20180822/spec_forcepsf_auto_lstep1__crr_b_ifu20180822_05_05_46_ZTF18abnuark.fits',\n",
       " '/data/20180822/spec_forcepsf_auto_lstep1__crr_b_ifu20180822_05_05_46_ZTF18abnuark.pdf',\n",
       " '/data/20180822/spec_forcepsf_auto_lstep1__crr_b_ifu20180822_05_05_46_ZTF18abnuark.png',\n",
       " '/data/20180822/spec_forcepsf_auto_lstep1__crr_b_ifu20180822_05_05_46_ZTF18abnuark.png',\n",
       " '/data/20180822/spec_forcepsf_auto_lstep1__crr_b_ifu20180822_05_05_46_ZTF18abnuark.txt',\n",
       " '/data/20180822/spec_forcepsf_auto_lstep1__crr_b_ifu20180822_05_05_46_ZTF18abnuark.txt',\n",
       " '/data/20180822/spec_forcepsf_auto_lstep1__crr_b_ifu20180822_05_32_55_ZTF18aarvcmx.fits',\n",
       " '/data/20180822/spec_forcepsf_auto_lstep1__crr_b_ifu20180822_05_32_55_ZTF18aarvcmx.pdf',\n",
       " '/data/20180822/spec_forcepsf_auto_lstep1__crr_b_ifu20180822_05_32_55_ZTF18aarvcmx.png',\n",
       " '/data/20180822/spec_forcepsf_auto_lstep1__crr_b_ifu20180822_05_32_55_ZTF18aarvcmx.png',\n",
       " '/data/20180822/spec_forcepsf_auto_lstep1__crr_b_ifu20180822_05_32_55_ZTF18aarvcmx.txt',\n",
       " '/data/20180822/spec_forcepsf_auto_lstep1__crr_b_ifu20180822_05_32_55_ZTF18aarvcmx.txt',\n",
       " '/data/20180822/spec_forcepsf_auto_lstep1__crr_b_ifu20180822_06_16_08_ZTF18ablusuz.fits',\n",
       " '/data/20180822/spec_forcepsf_auto_lstep1__crr_b_ifu20180822_06_16_08_ZTF18ablusuz.pdf',\n",
       " '/data/20180822/spec_forcepsf_auto_lstep1__crr_b_ifu20180822_06_16_08_ZTF18ablusuz.png',\n",
       " '/data/20180822/spec_forcepsf_auto_lstep1__crr_b_ifu20180822_06_16_08_ZTF18ablusuz.png',\n",
       " '/data/20180822/spec_forcepsf_auto_lstep1__crr_b_ifu20180822_06_16_08_ZTF18ablusuz.txt',\n",
       " '/data/20180822/spec_forcepsf_auto_lstep1__crr_b_ifu20180822_06_16_08_ZTF18ablusuz.txt',\n",
       " '/data/20180822/spec_forcepsf_auto_lstep1__crr_b_ifu20180822_06_59_37_ZTF18abolqvi.fits',\n",
       " '/data/20180822/spec_forcepsf_auto_lstep1__crr_b_ifu20180822_06_59_37_ZTF18abolqvi.pdf',\n",
       " '/data/20180822/spec_forcepsf_auto_lstep1__crr_b_ifu20180822_06_59_37_ZTF18abolqvi.png',\n",
       " '/data/20180822/spec_forcepsf_auto_lstep1__crr_b_ifu20180822_06_59_37_ZTF18abolqvi.png',\n",
       " '/data/20180822/spec_forcepsf_auto_lstep1__crr_b_ifu20180822_06_59_37_ZTF18abolqvi.txt',\n",
       " '/data/20180822/spec_forcepsf_auto_lstep1__crr_b_ifu20180822_06_59_37_ZTF18abolqvi.txt',\n",
       " '/data/20180822/spec_forcepsf_auto_lstep1__crr_b_ifu20180822_07_42_57_ZTF18abmqrwk.fits',\n",
       " '/data/20180822/spec_forcepsf_auto_lstep1__crr_b_ifu20180822_07_42_57_ZTF18abmqrwk.pdf',\n",
       " '/data/20180822/spec_forcepsf_auto_lstep1__crr_b_ifu20180822_07_42_57_ZTF18abmqrwk.png',\n",
       " '/data/20180822/spec_forcepsf_auto_lstep1__crr_b_ifu20180822_07_42_57_ZTF18abmqrwk.png',\n",
       " '/data/20180822/spec_forcepsf_auto_lstep1__crr_b_ifu20180822_07_42_57_ZTF18abmqrwk.txt',\n",
       " '/data/20180822/spec_forcepsf_auto_lstep1__crr_b_ifu20180822_07_42_57_ZTF18abmqrwk.txt',\n",
       " '/data/20180822/spec_forcepsf_auto_lstep1__crr_b_ifu20180822_08_09_21_ZTF17aaawgkc.fits',\n",
       " '/data/20180822/spec_forcepsf_auto_lstep1__crr_b_ifu20180822_08_09_21_ZTF17aaawgkc.pdf',\n",
       " '/data/20180822/spec_forcepsf_auto_lstep1__crr_b_ifu20180822_08_09_21_ZTF17aaawgkc.png',\n",
       " '/data/20180822/spec_forcepsf_auto_lstep1__crr_b_ifu20180822_08_09_21_ZTF17aaawgkc.png',\n",
       " '/data/20180822/spec_forcepsf_auto_lstep1__crr_b_ifu20180822_08_09_21_ZTF17aaawgkc.txt',\n",
       " '/data/20180822/spec_forcepsf_auto_lstep1__crr_b_ifu20180822_08_09_21_ZTF17aaawgkc.txt',\n",
       " '/data/20180822/spec_forcepsf_auto_lstep1__crr_b_ifu20180822_08_35_46_STD-BD+25d4655.fits',\n",
       " '/data/20180822/spec_forcepsf_auto_lstep1__crr_b_ifu20180822_08_35_46_STD-BD+25d4655.pdf',\n",
       " '/data/20180822/spec_forcepsf_auto_lstep1__crr_b_ifu20180822_08_35_46_STD-BD+25d4655.png',\n",
       " '/data/20180822/spec_forcepsf_auto_lstep1__crr_b_ifu20180822_08_35_46_STD-BD+25d4655.png',\n",
       " '/data/20180822/spec_forcepsf_auto_lstep1__crr_b_ifu20180822_08_35_46_STD-BD+25d4655.txt',\n",
       " '/data/20180822/spec_forcepsf_auto_lstep1__crr_b_ifu20180822_08_35_46_STD-BD+25d4655.txt',\n",
       " '/data/20180822/spec_forcepsf_auto_lstep1__crr_b_ifu20180822_08_43_32_ZTF18abomhip.fits',\n",
       " '/data/20180822/spec_forcepsf_auto_lstep1__crr_b_ifu20180822_08_43_32_ZTF18abomhip.pdf',\n",
       " '/data/20180822/spec_forcepsf_auto_lstep1__crr_b_ifu20180822_08_43_32_ZTF18abomhip.png',\n",
       " '/data/20180822/spec_forcepsf_auto_lstep1__crr_b_ifu20180822_08_43_32_ZTF18abomhip.png',\n",
       " '/data/20180822/spec_forcepsf_auto_lstep1__crr_b_ifu20180822_08_43_32_ZTF18abomhip.txt',\n",
       " '/data/20180822/spec_forcepsf_auto_lstep1__crr_b_ifu20180822_08_43_32_ZTF18abomhip.txt',\n",
       " '/data/20180822/spec_forcepsf_auto_lstep1_notfluxcal__crr_b_ifu20180822_03_25_34_STD-BD+33d2642.fits',\n",
       " '/data/20180822/spec_forcepsf_auto_lstep1_notfluxcal__crr_b_ifu20180822_03_25_34_STD-BD+33d2642.pdf',\n",
       " '/data/20180822/spec_forcepsf_auto_lstep1_notfluxcal__crr_b_ifu20180822_03_25_34_STD-BD+33d2642.png',\n",
       " '/data/20180822/spec_forcepsf_auto_lstep1_notfluxcal__crr_b_ifu20180822_03_25_34_STD-BD+33d2642.png',\n",
       " '/data/20180822/spec_forcepsf_auto_lstep1_notfluxcal__crr_b_ifu20180822_03_25_34_STD-BD+33d2642.txt',\n",
       " '/data/20180822/spec_forcepsf_auto_lstep1_notfluxcal__crr_b_ifu20180822_03_25_34_STD-BD+33d2642.txt']"
      ]
     },
     "execution_count": 4,
     "metadata": {},
     "output_type": "execute_result"
    }
   ],
   "source": [
    "pio.get_pharosdata(\"20180822\", force_dl=False)"
   ]
  },
  {
   "cell_type": "code",
   "execution_count": 7,
   "metadata": {},
   "outputs": [
    {
     "data": {
      "text/plain": [
       "{'20200108': ['spec_auto_robot_lstep1__crr_b_ifu20200108_09_40_27_ZTF20aaelulu.fits'],\n",
       " '20200111': ['spec_auto_robot_lstep1__crr_b_ifu20200111_09_33_10_ZTF20aaelulu.fits'],\n",
       " '20200113': ['spec_auto_robot_lstep1__crr_b_ifu20200113_08_19_35_ZTF20aaelulu.fits'],\n",
       " '20200119': ['spec_auto_robot_lstep1__crr_b_ifu20200119_09_42_23_ZTF20aaelulu.fits'],\n",
       " '20200123': ['spec_auto_robot_lstep1__crr_b_ifu20200123_11_20_33_ZTF20aaelulu.fits'],\n",
       " '20200125': ['spec_auto_robot_lstep1__crr_b_ifu20200125_12_07_05_ZTF20aaelulu.fits'],\n",
       " '20200129': ['spec_auto_robot_lstep1__crr_b_ifu20200129_07_32_00_ZTF20aaelulu.fits'],\n",
       " '20200204': ['spec_auto_robot_lstep1__crr_b_ifu20200204_11_56_38_ZTF20aaelulu.fits'],\n",
       " '20200205': ['spec_auto_robot_lstep1__crr_b_ifu20200205_07_26_36_ZTF20aaelulu.fits'],\n",
       " '20200214': ['spec_auto_robot_lstep1__crr_b_ifu20200214_06_46_15_ZTF20aaelulu.fits'],\n",
       " '20200221': ['spec_auto_robot_lstep1__crr_b_ifu20200221_05_54_25_ZTF20aaelulu.fits'],\n",
       " '20200228': ['spec_auto_robot_lstep1__crr_b_ifu20200228_07_39_06_ZTF20aaelulu.fits'],\n",
       " '20200301': ['spec_auto_robot_lstep1__crr_b_ifu20200301_04_40_33_ZTF20aaelulu.fits'],\n",
       " '20200303': ['spec_auto_robot_lstep1__crr_b_ifu20200303_05_50_38_ZTF20aaelulu.fits'],\n",
       " '20200623': ['spec_auto_robot_lstep1__crr_b_ifu20200623_06_57_36_ZTF20aaelulu.fits']}"
      ]
     },
     "execution_count": 7,
     "metadata": {},
     "output_type": "execute_result"
    }
   ],
   "source": [
    "pio.get_target_pharosdata(\"ZTF20aaelulu\", kind=\"spec\",\n",
    "                          not_contains=\"redo\",\n",
    "                          extension=\".fits\")"
   ]
  },
  {
   "cell_type": "markdown",
   "metadata": {},
   "source": [
    "***\n",
    "# 2 SEDmQuery | Download what you need"
   ]
  },
  {
   "cell_type": "code",
   "execution_count": 3,
   "metadata": {},
   "outputs": [],
   "source": [
    "from ztfquery import sedm"
   ]
  },
  {
   "cell_type": "code",
   "execution_count": 4,
   "metadata": {},
   "outputs": [],
   "source": [
    "squery = sedm.SEDMQuery()"
   ]
  },
  {
   "cell_type": "code",
   "execution_count": 9,
   "metadata": {},
   "outputs": [
    {
     "data": {
      "text/plain": [
       "['/Users/mrigault/Data/ZTF/sedm/redux/20200108/spec_auto_robot_lstep1__crr_b_ifu20200108_09_40_27_ZTF20aaelulu.fits',\n",
       " '/Users/mrigault/Data/ZTF/sedm/redux/20200111/spec_auto_robot_lstep1__crr_b_ifu20200111_09_33_10_ZTF20aaelulu.fits',\n",
       " '/Users/mrigault/Data/ZTF/sedm/redux/20200113/spec_auto_robot_lstep1__crr_b_ifu20200113_08_19_35_ZTF20aaelulu.fits',\n",
       " '/Users/mrigault/Data/ZTF/sedm/redux/20200119/spec_auto_robot_lstep1__crr_b_ifu20200119_09_42_23_ZTF20aaelulu.fits',\n",
       " '/Users/mrigault/Data/ZTF/sedm/redux/20200123/spec_auto_robot_lstep1__crr_b_ifu20200123_11_20_33_ZTF20aaelulu.fits',\n",
       " '/Users/mrigault/Data/ZTF/sedm/redux/20200125/spec_auto_robot_lstep1__crr_b_ifu20200125_12_07_05_ZTF20aaelulu.fits',\n",
       " '/Users/mrigault/Data/ZTF/sedm/redux/20200129/spec_auto_robot_lstep1__crr_b_ifu20200129_07_32_00_ZTF20aaelulu.fits',\n",
       " '/Users/mrigault/Data/ZTF/sedm/redux/20200204/spec_auto_robot_lstep1__crr_b_ifu20200204_11_56_38_ZTF20aaelulu.fits',\n",
       " '/Users/mrigault/Data/ZTF/sedm/redux/20200205/spec_auto_robot_lstep1__crr_b_ifu20200205_07_26_36_ZTF20aaelulu.fits',\n",
       " '/Users/mrigault/Data/ZTF/sedm/redux/20200214/spec_auto_robot_lstep1__crr_b_ifu20200214_06_46_15_ZTF20aaelulu.fits',\n",
       " '/Users/mrigault/Data/ZTF/sedm/redux/20200221/spec_auto_robot_lstep1__crr_b_ifu20200221_05_54_25_ZTF20aaelulu.fits',\n",
       " '/Users/mrigault/Data/ZTF/sedm/redux/20200228/spec_auto_robot_lstep1__crr_b_ifu20200228_07_39_06_ZTF20aaelulu.fits',\n",
       " '/Users/mrigault/Data/ZTF/sedm/redux/20200301/spec_auto_robot_lstep1__crr_b_ifu20200301_04_40_33_ZTF20aaelulu.fits',\n",
       " '/Users/mrigault/Data/ZTF/sedm/redux/20200303/spec_auto_robot_lstep1__crr_b_ifu20200303_05_50_38_ZTF20aaelulu.fits',\n",
       " '/Users/mrigault/Data/ZTF/sedm/redux/20200623/spec_auto_robot_lstep1__crr_b_ifu20200623_06_57_36_ZTF20aaelulu.fits']"
      ]
     },
     "execution_count": 9,
     "metadata": {},
     "output_type": "execute_result"
    }
   ],
   "source": [
    "squery.get_target_spectra(\"ZTF20aaelulu\", client=client, not_contains=\"redo\")"
   ]
  },
  {
   "cell_type": "code",
   "execution_count": null,
   "metadata": {},
   "outputs": [],
   "source": [
    "squery.get_ni"
   ]
  },
  {
   "cell_type": "code",
   "execution_count": null,
   "metadata": {},
   "outputs": [],
   "source": []
  }
 ],
 "metadata": {
  "kernelspec": {
   "display_name": "Python 3",
   "language": "python",
   "name": "python3"
  },
  "language_info": {
   "codemirror_mode": {
    "name": "ipython",
    "version": 3
   },
   "file_extension": ".py",
   "mimetype": "text/x-python",
   "name": "python",
   "nbconvert_exporter": "python",
   "pygments_lexer": "ipython3",
   "version": "3.8.5"
  }
 },
 "nbformat": 4,
 "nbformat_minor": 4
}
