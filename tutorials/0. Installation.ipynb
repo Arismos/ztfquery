{
 "cells": [
  {
   "cell_type": "markdown",
   "metadata": {},
   "source": [
    "***\n",
    "# Installation of ztfquery\n",
    "\n",
    "The installation is pretty straightforward.\n",
    "\n",
    "Either \n",
    "\n",
    "```bash\n",
    "pip install ztfquery\n",
    "```\n",
    "\n",
    "or\n",
    "```bash\n",
    "git clone https://github.com/MickaelRigault/ztfquery.git\n",
    "cd ztfquery\n",
    "python setup.py install\n",
    "```"
   ]
  },
  {
   "cell_type": "markdown",
   "metadata": {},
   "source": [
    "# Important Step, the `$ZTFDATA` environment variable\n",
    "\n",
    "\n",
    "Create the `ztfquery` global variable `$ZTFDATA` that will be used for the root path of all the ztfquery products. \n",
    "\n",
    "- **IRSA images and associated products** (sci ; raw ; cal ; ref) will be stored as:\n",
    "    - `$ZTFDATA/sci`\n",
    "    - `$ZTFDATA/raw`\n",
    "    - `$ZTFDATA/cal`\n",
    "    - `$ZTFDATA/ref`\n",
    "\n",
    "- **fritz data (spectra, lightcurves, alerts)** will be stored as:\n",
    "    - `$ZTFDATA/fritz/spectra`\n",
    "    - `$ZTFDATA/fritz/lightcurves`\n",
    "    - `$ZTFDATA/fritz/alerts`    \n",
    "    \n",
    "    \n",
    "- **sedm data (cube, spectra)** will be stored as:\n",
    "    - `$ZTFDATA/sedm/redux/DATE/`\n"
   ]
  },
  {
   "cell_type": "markdown",
   "metadata": {},
   "source": [
    "***\n",
    "# Password and accounts\n",
    "\n",
    "\n",
    "The various service of ztf ztfquery provides access to will requires accounts. You will be prompted your login credentials the first time you will use the service.\n",
    "\n",
    "use ztfquery.io.load_id(\""
   ]
  },
  {
   "cell_type": "code",
   "execution_count": null,
   "metadata": {},
   "outputs": [],
   "source": []
  }
 ],
 "metadata": {
  "kernelspec": {
   "display_name": "Python 3",
   "language": "python",
   "name": "python3"
  },
  "language_info": {
   "codemirror_mode": {
    "name": "ipython",
    "version": 3
   },
   "file_extension": ".py",
   "mimetype": "text/x-python",
   "name": "python",
   "nbconvert_exporter": "python",
   "pygments_lexer": "ipython3",
   "version": "3.8.5"
  }
 },
 "nbformat": 4,
 "nbformat_minor": 4
}
