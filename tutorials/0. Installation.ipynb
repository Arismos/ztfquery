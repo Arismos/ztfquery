{
 "cells": [
  {
   "cell_type": "markdown",
   "metadata": {},
   "source": [
    "***\n",
    "# Installation of ztfquery\n",
    "\n",
    "The installation is pretty straightforward.\n",
    "\n",
    "Either \n",
    "\n",
    "```bash\n",
    "pip install ztfquery\n",
    "```\n",
    "\n",
    "or\n",
    "```bash\n",
    "git clone https://github.com/MickaelRigault/ztfquery.git\n",
    "cd ztfquery\n",
    "python setup.py install\n",
    "```"
   ]
  },
  {
   "cell_type": "markdown",
   "metadata": {},
   "source": [
    "# Important Step, the `$ZTFDATA` environment variable\n",
    "\n",
    "\n",
    "Create the `ztfquery` global variable `$ZTFDATA` that will be used for the root path of all the ztfquery products. \n",
    "\n",
    "- **IRSA images and associated products** (sci ; raw ; cal ; ref) will be stored as:\n",
    "    - `$ZTFDATA/sci`\n",
    "    - `$ZTFDATA/raw`\n",
    "    - `$ZTFDATA/cal`\n",
    "    - `$ZTFDATA/ref`\n",
    "\n",
    "- **fritz data (spectra, lightcurves, alerts)** will be stored as:\n",
    "    - `$ZTFDATA/fritz/spectra`\n",
    "    - `$ZTFDATA/fritz/lightcurves`\n",
    "    - `$ZTFDATA/fritz/alerts`    \n",
    "    \n",
    "    \n",
    "- **sedm data (cube, spectra)** will be stored as:\n",
    "    - `$ZTFDATA/sedm/redux/DATE/`\n"
   ]
  },
  {
   "cell_type": "markdown",
   "metadata": {},
   "source": [
    "***\n",
    "# Password and accounts\n",
    "\n",
    "\n",
    "The various service of ztf ztfquery provides access to will requires accounts. You will be prompted your login credentials the first time you will use the service. Then they will be stored, crypted.\n",
    "\n",
    "use `ztfquery.io.load_id({service_name})` to reset it."
   ]
  },
  {
   "cell_type": "markdown",
   "metadata": {},
   "source": [
    "***\n",
    "# Credits:\n",
    "\n",
    "Tutorial made by M. Rigault (m.rigault@ipnl.in2p3.fr)\n",
    "\n",
    "If you have used ztfquery in any point of you research work, please cite https://ui.adsabs.harvard.edu/abs/2018zndo...1345222R/abstract. \n",
    "\n",
    "**Citations are important as they enable to justify the time spent to build code like this one to funding agencies.**\n",
    "\n",
    "\n",
    "### Acknowledgements:\n",
    "\n",
    "*The ztfquery code was funded by the European Research Council (ERC) under the European Union's Horizon 2020 research and innovation programme (grant agreement n°759194 - USNAC, PI: Rigault).*\n",
    "***"
   ]
  },
  {
   "cell_type": "code",
   "execution_count": null,
   "metadata": {},
   "outputs": [],
   "source": []
  }
 ],
 "metadata": {
  "kernelspec": {
   "display_name": "Python 3",
   "language": "python",
   "name": "python3"
  },
  "language_info": {
   "codemirror_mode": {
    "name": "ipython",
    "version": 3
   },
   "file_extension": ".py",
   "mimetype": "text/x-python",
   "name": "python",
   "nbconvert_exporter": "python",
   "pygments_lexer": "ipython3",
   "version": "3.8.5"
  }
 },
 "nbformat": 4,
 "nbformat_minor": 4
}
